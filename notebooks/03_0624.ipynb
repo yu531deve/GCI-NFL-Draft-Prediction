{
 "cells": [
  {
   "cell_type": "code",
   "execution_count": 10,
   "id": "91c19de8",
   "metadata": {},
   "outputs": [],
   "source": [
    "#テンプレート\n",
    "\n",
    "# モジュールのインポート\n",
    "import numpy as np  # 数値計算や配列操作を行うためのライブラリ\n",
    "import pandas as pd  # 表形式のデータを扱うためのライブラリ\n",
    "import matplotlib.pyplot as plt  # データ可視化のための基本的なグラフ描画ライブラリ\n",
    "import seaborn as sns  # 高機能な統計グラフを描画するライブラリ\n",
    "from sklearn.preprocessing import LabelEncoder  # カテゴリ変数を数値に変換するエンコーダ\n",
    "from sklearn.ensemble import RandomForestClassifier  # ランダムフォレストによる分類器\n",
    "from sklearn.model_selection import StratifiedKFold  # 層化K分割交差検証を行うクラス\n",
    "from sklearn.metrics import roc_auc_score  # ROC AUCスコアを計算する評価指標\n",
    "\n",
    "# 読み込むデータが格納されたディレクトリのパス（※必要に応じて変更の必要があります）\n",
    "PATH = '../data/'\n",
    "\n",
    "\n",
    "train = pd.read_csv(PATH + 'train.csv')  # 学習用データの読み込み\n",
    "test = pd.read_csv(PATH + 'test.csv')    # テスト用データの読み込み"
   ]
  },
  {
   "cell_type": "code",
   "execution_count": 11,
   "id": "5be99d03",
   "metadata": {},
   "outputs": [
    {
     "data": {
      "text/plain": [
       "Id                    0\n",
       "Year                  0\n",
       "Age                 435\n",
       "School                0\n",
       "Height                0\n",
       "Weight                0\n",
       "Sprint_40yd         145\n",
       "Vertical_Jump       554\n",
       "Bench_Press_Reps    721\n",
       "Broad_Jump          581\n",
       "Agility_3cone       970\n",
       "Shuttle             912\n",
       "Player_Type           0\n",
       "Position_Type         0\n",
       "Position              0\n",
       "Drafted               0\n",
       "dtype: int64"
      ]
     },
     "execution_count": 11,
     "metadata": {},
     "output_type": "execute_result"
    }
   ],
   "source": [
    "train.isnull().sum()"
   ]
  },
  {
   "cell_type": "code",
   "execution_count": 12,
   "id": "f11665e0",
   "metadata": {},
   "outputs": [
    {
     "data": {
      "text/plain": [
       "Id                    0\n",
       "Year                  0\n",
       "Age                 115\n",
       "School                0\n",
       "Height                0\n",
       "Weight                0\n",
       "Sprint_40yd          29\n",
       "Vertical_Jump       143\n",
       "Bench_Press_Reps    184\n",
       "Broad_Jump          147\n",
       "Agility_3cone       247\n",
       "Shuttle             228\n",
       "Player_Type           0\n",
       "Position_Type         0\n",
       "Position              0\n",
       "dtype: int64"
      ]
     },
     "execution_count": 12,
     "metadata": {},
     "output_type": "execute_result"
    }
   ],
   "source": [
    "test.isnull().sum()"
   ]
  },
  {
   "cell_type": "code",
   "execution_count": 13,
   "id": "da49f45d",
   "metadata": {},
   "outputs": [
    {
     "name": "stdout",
     "output_type": "stream",
     "text": [
      "Age_missing\n",
      "False    0.765132\n",
      "True     0.018391\n",
      "Name: Drafted, dtype: float64\n"
     ]
    }
   ],
   "source": [
    "# Ageが欠損しているかどうかの列を作成\n",
    "train[\"Age_missing\"] = train[\"Age\"].isna()\n",
    "\n",
    "# 欠損の有無ごとのドラフト率を集計\n",
    "draft_rate_by_age_missing = train.groupby(\"Age_missing\")[\"Drafted\"].mean()\n",
    "\n",
    "print(draft_rate_by_age_missing)\n"
   ]
  },
  {
   "cell_type": "code",
   "execution_count": 16,
   "id": "9855a098",
   "metadata": {},
   "outputs": [],
   "source": [
    "# 説明変数を定義\n",
    "X = train.drop(columns=[\"Drafted\"])\n",
    "\n",
    "# Ageの補完とフラグ追加\n",
    "X[\"Age_filled\"] = train[\"Age\"].fillna(-1)\n",
    "X[\"Age_missing\"] = train[\"Age\"].isna().astype(int)\n",
    "\n",
    "# 目的変数\n",
    "y = train[\"Drafted\"]\n",
    "\n"
   ]
  }
 ],
 "metadata": {
  "kernelspec": {
   "display_name": "Python 3",
   "language": "python",
   "name": "python3"
  },
  "language_info": {
   "codemirror_mode": {
    "name": "ipython",
    "version": 3
   },
   "file_extension": ".py",
   "mimetype": "text/x-python",
   "name": "python",
   "nbconvert_exporter": "python",
   "pygments_lexer": "ipython3",
   "version": "3.13.3"
  }
 },
 "nbformat": 4,
 "nbformat_minor": 5
}
