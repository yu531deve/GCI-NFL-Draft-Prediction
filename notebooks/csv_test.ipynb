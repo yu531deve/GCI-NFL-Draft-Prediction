{
 "cells": [
  {
   "cell_type": "code",
   "execution_count": 4,
   "id": "9d1400c0",
   "metadata": {},
   "outputs": [
    {
     "name": "stdout",
     "output_type": "stream",
     "text": [
      "✅ 収集済ファイル数: 15\n",
      "✅ 最も近いファイル: C:\\Users\\81807\\Desktop\\Kaggle\\GCI②(NFL Draft Prediction)\\submissions\\submission_10_0628(0.83668).csv\n",
      "✅ 推定スコア: 0.83668\n",
      "\n",
      "✅ 類似度上位5件:\n",
      "submission_10_0628(0.83668).csv | Score: 0.83668 | L1距離: 9.14394\n",
      "submission_08_0627(0.83414).csv | Score: 0.83414 | L1距離: 10.89482\n",
      "submission_18_0705(0.84272).csv | Score: 0.84272 | L1距離: 12.30194\n",
      "submission_06_0627(0.82752).csv | Score: 0.82752 | L1距離: 12.34326\n",
      "submission_17_0704(0.84169).csv | Score: 0.84169 | L1距離: 12.95179\n"
     ]
    }
   ],
   "source": [
    "import pandas as pd\n",
    "import numpy as np\n",
    "import glob\n",
    "import os\n",
    "import re\n",
    "\n",
    "# ❶ ディレクトリ指定\n",
    "base_dir = r\"C:\\Users\\81807\\Desktop\\Kaggle\\GCI②(NFL Draft Prediction)\\submissions\"\n",
    "file_paths = glob.glob(os.path.join(base_dir, \"submission_*.csv\"))\n",
    "selected_files = [f for f in file_paths if re.search(r\"\\(\\d\", f)]\n",
    "\n",
    "# ❷ 提出ファイルの Drafted ソートベクトルを保存\n",
    "vectors = {}\n",
    "scores = {}\n",
    "\n",
    "for file in selected_files:\n",
    "    basename = os.path.basename(file)\n",
    "    # スコア抽出\n",
    "    score_match = re.search(r\"\\((\\d+\\.\\d+)\\)\", basename)\n",
    "    score = float(score_match.group(1)) if score_match else None\n",
    "    scores[file] = score\n",
    "    \n",
    "    # Drafted ベクトル\n",
    "    df = pd.read_csv(file)\n",
    "    drafted_sorted = np.sort(df[\"Drafted\"].values)\n",
    "    vectors[file] = drafted_sorted\n",
    "\n",
    "print(f\"✅ 収集済ファイル数: {len(vectors)}\")\n",
    "\n",
    "# ❸ 新規提出ファイルのスコア推定\n",
    "new_file = r\"C:\\Users\\81807\\Desktop\\Kaggle\\GCI②(NFL Draft Prediction)\\submissions\\submission_20_0705().csv\"\n",
    "df_new = pd.read_csv(new_file)\n",
    "new_vec = np.sort(df_new[\"Drafted\"].values)\n",
    "\n",
    "# ❹ L1距離で最も近いファイルを探索\n",
    "distances = {}\n",
    "for file, vec in vectors.items():\n",
    "    dist = np.linalg.norm(vec - new_vec, ord=1)\n",
    "    distances[file] = dist\n",
    "\n",
    "closest_file = min(distances, key=distances.get)\n",
    "\n",
    "print(f\"✅ 最も近いファイル: {closest_file}\")\n",
    "print(f\"✅ 推定スコア: {scores[closest_file]}\")\n",
    "\n",
    "# ❺ 上位5件も表示\n",
    "closest_5 = sorted(distances.items(), key=lambda x: x[1])[:5]\n",
    "print(\"\\n✅ 類似度上位5件:\")\n",
    "for file, dist in closest_5:\n",
    "    print(f\"{os.path.basename(file)} | Score: {scores[file]} | L1距離: {dist:.5f}\")\n"
   ]
  },
  {
   "cell_type": "code",
   "execution_count": 5,
   "id": "ebb94572",
   "metadata": {},
   "outputs": [
    {
     "name": "stdout",
     "output_type": "stream",
     "text": [
      "✅ 09モデルとのL1距離: 16.76278\n"
     ]
    }
   ],
   "source": [
    "df_09 = pd.read_csv(r\"C:\\Users\\81807\\Desktop\\Kaggle\\GCI②(NFL Draft Prediction)\\submissions\\submission_09_0627(0.84205).csv\")\n",
    "vec_09 = np.sort(df_09[\"Drafted\"].values)\n",
    "dist_09 = np.linalg.norm(vec_09 - new_vec, ord=1)\n",
    "print(f\"✅ 09モデルとのL1距離: {dist_09:.5f}\")\n"
   ]
  }
 ],
 "metadata": {
  "kernelspec": {
   "display_name": ".venv",
   "language": "python",
   "name": "python3"
  },
  "language_info": {
   "codemirror_mode": {
    "name": "ipython",
    "version": 3
   },
   "file_extension": ".py",
   "mimetype": "text/x-python",
   "name": "python",
   "nbconvert_exporter": "python",
   "pygments_lexer": "ipython3",
   "version": "3.13.3"
  }
 },
 "nbformat": 4,
 "nbformat_minor": 5
}
