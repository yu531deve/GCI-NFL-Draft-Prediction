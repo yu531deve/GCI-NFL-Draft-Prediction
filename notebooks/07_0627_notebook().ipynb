{
 "cells": [
  {
   "cell_type": "code",
   "execution_count": null,
   "id": "69b907ab",
   "metadata": {},
   "outputs": [],
   "source": [
    "#テンプレート\n",
    "\n",
    "# モジュールのインポート\n",
    "import numpy as np  # 数値計算や配列操作を行うためのライブラリ\n",
    "import pandas as pd  # 表形式のデータを扱うためのライブラリ\n",
    "import matplotlib.pyplot as plt  # データ可視化のための基本的なグラフ描画ライブラリ\n",
    "import seaborn as sns  # 高機能な統計グラフを描画するライブラリ\n",
    "import lightgbm as lgb\n",
    "import optuna\n",
    "import os\n",
    "import datetime\n",
    "from sklearn.preprocessing import LabelEncoder  # カテゴリ変数を数値に変換するエンコーダ\n",
    "from sklearn.metrics import roc_auc_score  # ROC AUCスコアを計算する評価指標\n",
    "from sklearn.model_selection import KFold  # 通常のK分割交差検証（今回使用）\n",
    "from lightgbm import LGBMClassifier  # LightGBMのモデルクラス\n",
    "\n",
    "\n",
    "\n",
    "# 読み込むデータが格納されたディレクトリのパス（※必要に応じて変更の必要があります）\n",
    "PATH = '../data/'\n",
    "\n",
    "\n",
    "X = pd.read_csv(PATH + 'train.csv')  # 学習用データの読み込み\n",
    "test = pd.read_csv(PATH + 'test.csv')    # テスト用データの読み込み"
   ]
  },
  {
   "cell_type": "code",
   "execution_count": null,
   "id": "03ad2b4a",
   "metadata": {},
   "outputs": [],
   "source": [
    "X.isnull().sum()"
   ]
  },
  {
   "cell_type": "code",
   "execution_count": null,
   "id": "0493605e",
   "metadata": {},
   "outputs": [],
   "source": [
    "test.isnull().sum()"
   ]
  },
  {
   "cell_type": "code",
   "execution_count": null,
   "id": "7f614109",
   "metadata": {},
   "outputs": [],
   "source": [
    "# Drafted は test に存在しないので除外を個別に定義\n",
    "train_num_cols = X.select_dtypes(include=[np.number]).columns.drop(\"Drafted\")\n",
    "test_num_cols = test.select_dtypes(include=[np.number]).columns  # testはDraftedがない\n",
    "\n",
    "# 中央値で補完（trainとtestそれぞれ自分の統計量で補完してもOK）\n",
    "X[train_num_cols] = X[train_num_cols].fillna(X[train_num_cols].median())\n",
    "test[test_num_cols] = test[test_num_cols].fillna(test[test_num_cols].median())\n"
   ]
  },
  {
   "cell_type": "code",
   "execution_count": null,
   "id": "804f27a7",
   "metadata": {},
   "outputs": [],
   "source": [
    "X.isnull().sum()\n",
    "test.isnull().sum()\n",
    "\n",
    "print(X.isnull().sum())\n",
    "print(test.isnull().sum())"
   ]
  },
  {
   "cell_type": "markdown",
   "id": "70e44285",
   "metadata": {},
   "source": [
    "## ドメイン知識に基づく特徴量エンジニアリング"
   ]
  },
  {
   "cell_type": "markdown",
   "id": "37e0bfd0",
   "metadata": {},
   "source": [
    "### ① Speed Score（スピードスコア）\n",
    "- 基本情報（Weight, Sprint_40yd）から算出される基礎指標"
   ]
  },
  {
   "cell_type": "code",
   "execution_count": null,
   "id": "715858f4",
   "metadata": {},
   "outputs": [],
   "source": [
    "# kg → lbs 換算係数：1kg = 2.20462lbs\n",
    "X[\"Weight_lbs\"] = X[\"Weight\"] * 2.20462\n",
    "test[\"Weight_lbs\"] = test[\"Weight\"] * 2.20462\n",
    "\n",
    "# Speed Score の算出（スピードと体重のバランス）\n",
    "X[\"SpeedScore\"] = X[\"Weight_lbs\"] * (200 / X[\"Sprint_40yd\"]**2)\n",
    "test[\"SpeedScore\"] = test[\"Weight_lbs\"] * (200 / test[\"Sprint_40yd\"]**2)\n"
   ]
  },
  {
   "cell_type": "markdown",
   "id": "596fcc09",
   "metadata": {},
   "source": [
    "### ② Burst Score（爆発力）\n",
    "- 垂直跳び + 立ち幅跳びの合算（Vertical_Jump + Broad_Jump）"
   ]
  },
  {
   "cell_type": "code",
   "execution_count": null,
   "id": "a051cf9e",
   "metadata": {},
   "outputs": [],
   "source": [
    "# 垂直跳びと立ち幅跳びの合計\n",
    "X[\"BurstScore\"] = X[\"Vertical_Jump\"] + X[\"Broad_Jump\"]\n",
    "test[\"BurstScore\"] = test[\"Vertical_Jump\"] + test[\"Broad_Jump\"]\n"
   ]
  },
  {
   "cell_type": "markdown",
   "id": "3be5cc92",
   "metadata": {},
   "source": [
    "### ③ Agility Score（敏捷性）\n",
    "- Shuttle + 3-cone（方向転換の速さ）"
   ]
  },
  {
   "cell_type": "code",
   "execution_count": null,
   "id": "1208b353",
   "metadata": {},
   "outputs": [],
   "source": [
    "# Shuttle + 3-cone（方向転換の素早さ）\n",
    "X[\"AgilityScore\"] = X[\"Shuttle\"] + X[\"Agility_3cone\"]\n",
    "test[\"AgilityScore\"] = test[\"Shuttle\"] + test[\"Agility_3cone\"]\n"
   ]
  },
  {
   "cell_type": "markdown",
   "id": "3b1d1df0",
   "metadata": {},
   "source": [
    "### ④ RSA（Relative Score Analysis）風スコア\n",
    "- Sprint_40yd, Vertical_Jump, Bench_Press_Reps, Shuttle, Agility_3cone を個別にスケーリングした指標群（10点満点換算）"
   ]
  },
  {
   "cell_type": "code",
   "execution_count": null,
   "id": "7ea9f9c5",
   "metadata": {},
   "outputs": [],
   "source": [
    "from sklearn.preprocessing import MinMaxScaler\n",
    "\n",
    "rsa_features = [\"Sprint_40yd\", \"Vertical_Jump\", \"Bench_Press_Reps\", \"Shuttle\", \"Agility_3cone\"]\n",
    "\n",
    "for col in rsa_features:\n",
    "    scaler = MinMaxScaler(feature_range=(0, 10))\n",
    "    if col in [\"Sprint_40yd\", \"Shuttle\", \"Agility_3cone\"]:\n",
    "        # 小さい値が有利 → スケーリング後に反転\n",
    "        X[f\"RSA_{col}\"] = 10 - scaler.fit_transform(X[[col]])\n",
    "        test[f\"RSA_{col}\"] = 10 - scaler.transform(test[[col]])\n",
    "    else:\n",
    "        # 大きい値が有利\n",
    "        X[f\"RSA_{col}\"] = scaler.fit_transform(X[[col]])\n",
    "        test[f\"RSA_{col}\"] = scaler.transform(test[[col]])\n"
   ]
  },
  {
   "cell_type": "markdown",
   "id": "61a5f743",
   "metadata": {},
   "source": [
    "### ⑤ Acceleration Index（加速力指標）\n",
    "- Speed Score と Agility Score から派生させる場合がある（例：Speed / Agility）"
   ]
  },
  {
   "cell_type": "code",
   "execution_count": null,
   "id": "38a1c1df",
   "metadata": {},
   "outputs": [],
   "source": [
    "# Acceleration Index：瞬発的な動きの強さ（スピード＋敏捷性）\n",
    "X[\"AccelerationIndex\"] = (\n",
    "    0.5 * X[\"SpeedScore\"] + 0.5 * X[\"AgilityScore\"]\n",
    ")\n",
    "test[\"AccelerationIndex\"] = (\n",
    "    0.5 * test[\"SpeedScore\"] + 0.5 * test[\"AgilityScore\"]\n",
    ")"
   ]
  },
  {
   "cell_type": "markdown",
   "id": "dac33ec5",
   "metadata": {},
   "source": [
    "### ⑥ Explosiveness Score（爆発指数）\n",
    "- Speed Score と Burst Score から派生させる場合がある（例：平均や加重平均）"
   ]
  },
  {
   "cell_type": "code",
   "execution_count": null,
   "id": "8abe471a",
   "metadata": {},
   "outputs": [],
   "source": [
    "X[\"ExplosivenessScore\"] = (\n",
    "    0.5 * X[\"SpeedScore\"] + 0.5 * X[\"BurstScore\"]\n",
    ")\n",
    "test[\"ExplosivenessScore\"] = (\n",
    "    0.5 * test[\"SpeedScore\"] + 0.5 * test[\"BurstScore\"]\n",
    ")\n"
   ]
  },
  {
   "cell_type": "markdown",
   "id": "9de65b55",
   "metadata": {},
   "source": [
    "### ⑦ Explosive Agility（爆発的敏捷性）\n",
    "- Burst Score と Agility Score の組み合わせ（例：加算 or 平均）\n"
   ]
  },
  {
   "cell_type": "code",
   "execution_count": null,
   "id": "3db28090",
   "metadata": {},
   "outputs": [],
   "source": [
    "# Explosive Agility：爆発力 + 敏捷性\n",
    "X[\"ExplosiveAgility\"] = (\n",
    "    0.5 * X[\"BurstScore\"] + 0.5 * X[\"AgilityScore\"]\n",
    ")\n",
    "test[\"ExplosiveAgility\"] = (\n",
    "    0.5 * test[\"BurstScore\"] + 0.5 * test[\"AgilityScore\"]\n",
    ")\n"
   ]
  },
  {
   "cell_type": "markdown",
   "id": "620ac800",
   "metadata": {},
   "source": [
    "### ⑧ Power Score（パワースコア）\n",
    "- Bench_Press_Reps に加えて体格（Weight）やBurstなどを組み合わせる場合あり"
   ]
  },
  {
   "cell_type": "code",
   "execution_count": null,
   "id": "6283f36f",
   "metadata": {},
   "outputs": [],
   "source": [
    "# Power Score：上半身筋力と体格の指標\n",
    "X[\"PowerScore\"] = (\n",
    "    0.7 * X[\"Bench_Press_Reps\"] + 0.3 * X[\"Weight\"]\n",
    ")\n",
    "test[\"PowerScore\"] = (\n",
    "    0.7 * test[\"Bench_Press_Reps\"] + 0.3 * test[\"Weight\"]\n",
    ")\n"
   ]
  },
  {
   "cell_type": "markdown",
   "id": "f51752e2",
   "metadata": {},
   "source": [
    "### ⑨ ASI（Athletic Score Index）\n",
    "- 上記の①～③を重み付けして合成した最終スコア"
   ]
  },
  {
   "cell_type": "code",
   "execution_count": null,
   "id": "9b41aced",
   "metadata": {},
   "outputs": [],
   "source": [
    "# ASI（Athletic Score Index）：重み付きの総合身体能力指標\n",
    "X[\"ASI\"] = (\n",
    "    0.5 * X[\"SpeedScore\"] +\n",
    "    0.3 * X[\"BurstScore\"] +\n",
    "    0.2 * X[\"AgilityScore\"]\n",
    ")\n",
    "\n",
    "test[\"ASI\"] = (\n",
    "    0.5 * test[\"SpeedScore\"] +\n",
    "    0.3 * test[\"BurstScore\"] +\n",
    "    0.2 * test[\"AgilityScore\"]\n",
    ")\n"
   ]
  },
  {
   "cell_type": "markdown",
   "id": "d2ac3ca4",
   "metadata": {},
   "source": [
    "## ✅ 有効性の検証方法（3ステップ"
   ]
  },
  {
   "cell_type": "markdown",
   "id": "6a7b8730",
   "metadata": {},
   "source": [
    "### ① Draftedとの相関係数（Pearson）を見る"
   ]
  },
  {
   "cell_type": "code",
   "execution_count": null,
   "id": "22b850d0",
   "metadata": {},
   "outputs": [],
   "source": [
    "correlations = X[[\"SpeedScore\", \"BurstScore\", \"AgilityScore\", \"ExplosivenessScore\", \n",
    "                  \"AccelerationIndex\", \"ExplosiveAgility\", \"PowerScore\", \"ASI\"] + [\"Drafted\"]].corr()\n",
    "print(correlations[\"Drafted\"].sort_values(ascending=False))\n"
   ]
  },
  {
   "cell_type": "markdown",
   "id": "184233b5",
   "metadata": {},
   "source": [
    "### ✅ ① Draftedとの単相関（直接的な相関係数）\n",
    "Drafted との相関上位：\n",
    "\n",
    "ExplosivenessScore: 0.254\n",
    "\n",
    "ASI: 0.247\n",
    "\n",
    "SpeedScore: 0.236\n",
    "\n",
    "AccelerationIndex: 0.236\n",
    "\n",
    "➡ 上記4つが比較的有効と判断されます。特に ExplosivenessScore と ASI は最も高く、ドラフトされるかどうかとの関連が強いとみなせます。"
   ]
  },
  {
   "cell_type": "markdown",
   "id": "00f0be61",
   "metadata": {},
   "source": [
    "### ② スコア分布ごとの Drafted率を可視化（ビン分割）"
   ]
  },
  {
   "cell_type": "code",
   "execution_count": null,
   "id": "1f1796cf",
   "metadata": {},
   "outputs": [],
   "source": [
    "X[\"ScoreBin\"] = pd.qcut(X[\"ASI\"], q=5, labels=False)\n",
    "bin_drafted_rate = X.groupby(\"ScoreBin\")[\"Drafted\"].mean()\n",
    "bin_drafted_rate.plot(kind=\"bar\")\n",
    "plt.title(\"Draft Rate by ASI Score Bin\")\n",
    "plt.ylabel(\"Draft Rate\")\n",
    "plt.xlabel(\"Score Bin (ASI)\")\n",
    "plt.show()\n"
   ]
  },
  {
   "cell_type": "markdown",
   "id": "fd747181",
   "metadata": {},
   "source": [
    "### 📊 ② ASI のスコアビンごとのドラフト率（棒グラフ）\n",
    "スコアビンが上がるにつれてドラフト率も単調に増加\n",
    "→ ASI は Drafted の予測に対して有効な指標であると視覚的にも確認できました。"
   ]
  },
  {
   "cell_type": "markdown",
   "id": "2556d9ff",
   "metadata": {},
   "source": [
    "### ③ 他の特徴量とのヒートマップ（多重共線性の確認"
   ]
  },
  {
   "cell_type": "code",
   "execution_count": null,
   "id": "efa5e5a4",
   "metadata": {},
   "outputs": [],
   "source": [
    "plt.figure(figsize=(12,10))\n",
    "sns.heatmap(X[[\"SpeedScore\", \"BurstScore\", \"AgilityScore\", \"ExplosivenessScore\", \n",
    "               \"AccelerationIndex\", \"ExplosiveAgility\", \"PowerScore\", \"ASI\"]].corr(), \n",
    "            annot=True, cmap=\"coolwarm\", fmt=\".2f\")\n",
    "plt.title(\"Correlation Matrix of Athletic Scores\")\n",
    "plt.show()\n"
   ]
  },
  {
   "cell_type": "markdown",
   "id": "6a27b338",
   "metadata": {},
   "source": [
    "### 🔥 ③ 複合指標間の相関（ヒートマップ）\n",
    "ExplosivenessScore, SpeedScore, AccelerationIndex, ASI がほぼ1.0に近い高相関\n",
    "\n",
    "AgilityScore とは 一部指標で負の相関（例：-0.70）\n",
    "\n",
    "➡ 多くの指標が似た情報を含んでいる（冗長性あり）。\n",
    "→ そのため、すべて入れるのではなく、例えば以下のような絞り込み or 主成分化を行って精度と過学習リスクをバランスさせることが重要です。"
   ]
  },
  {
   "cell_type": "markdown",
   "id": "8a7d1689",
   "metadata": {},
   "source": [
    "### 🧠 結論\n",
    "単体の有効性： ExplosivenessScore, ASI, SpeedScore, AccelerationIndex は明らかに有効。\n",
    "\n",
    "冗長性： 相関が高いため、複数同時投入には注意。モデルにとって過剰情報になる可能性。\n",
    "\n",
    "今後の方針： 相関が高い指標群はどれか1つだけ残す、または次元削減（PCA）なども視野に入れても良いです。\n"
   ]
  },
  {
   "cell_type": "markdown",
   "id": "9ab590ef",
   "metadata": {},
   "source": [
    "## LightGBMを用いた単変量Feature Importance比較"
   ]
  },
  {
   "cell_type": "markdown",
   "id": "af2f53fa",
   "metadata": {},
   "source": [
    "### 🎯 対象スコア（9種類）"
   ]
  },
  {
   "cell_type": "code",
   "execution_count": null,
   "id": "7894bd6d",
   "metadata": {},
   "outputs": [],
   "source": [
    "features = [\n",
    "    \"SpeedScore\",           # ① スピードスコア\n",
    "    \"BurstScore\",           # ② 爆発力\n",
    "    \"AgilityScore\",         # ③ 敏捷性\n",
    "    \"RSA_Sprint_40yd\",      # ④ RSA風スコア（代表例としてSprint_40yd）\n",
    "    \"AccelerationIndex\",    # ⑤ 加速力指標\n",
    "    \"ExplosivenessScore\",   # ⑥ 爆発指数\n",
    "    \"ExplosiveAgility\",     # ⑦ 爆発的敏捷性\n",
    "    \"PowerScore\",           # ⑧ パワースコア\n",
    "    \"ASI\"                   # ⑨ 総合指数（重み付き）\n",
    "]\n"
   ]
  },
  {
   "cell_type": "markdown",
   "id": "e938d425",
   "metadata": {},
   "source": [
    "### ✅ LightGBM + Feature Importance 計算コード"
   ]
  },
  {
   "cell_type": "code",
   "execution_count": null,
   "id": "d33f43e9",
   "metadata": {},
   "outputs": [],
   "source": [
    "from lightgbm import LGBMClassifier\n",
    "import matplotlib.pyplot as plt\n",
    "\n",
    "# 特徴量と目的変数\n",
    "X_feat = X[features]\n",
    "y_feat = X[\"Drafted\"]\n",
    "\n",
    "# モデル学習（単発）\n",
    "model = LGBMClassifier(random_state=42)\n",
    "model.fit(X_feat, y_feat)\n",
    "\n",
    "# 重要度の取得とプロット\n",
    "importance = model.feature_importances_\n",
    "feat_imp_df = pd.DataFrame({\n",
    "    \"Feature\": features,\n",
    "    \"Importance\": importance\n",
    "}).sort_values(by=\"Importance\", ascending=False)\n",
    "\n",
    "# プロット\n",
    "plt.figure(figsize=(10, 6))\n",
    "sns.barplot(x=\"Importance\", y=\"Feature\", data=feat_imp_df)\n",
    "plt.title(\"Feature Importance of Athletic Scores\")\n",
    "plt.show()\n"
   ]
  },
  {
   "cell_type": "markdown",
   "id": "b6088857",
   "metadata": {},
   "source": [
    "### ✅ 解析結果まとめ（Feature Importance）"
   ]
  },
  {
   "cell_type": "markdown",
   "id": "a266b573",
   "metadata": {},
   "source": [
    "| 順位 | 指標名                    | コメント（補足）                            |\n",
    "| -- | ---------------------- | ----------------------------------- |\n",
    "| ①  | **PowerScore**         | 最も有効。Bench Press + 体重の複合が効いている可能性大。 |\n",
    "| ②  | **AgilityScore**       | Shuttle + 3cone による敏捷性指標が非常に効果的。    |\n",
    "| ③  | **RSA\\_Sprint\\_40yd**  | 個別スケーリングしたSprint。非線形変換が有効だった可能性。    |\n",
    "| ④  | **ExplosivenessScore** | Jump系（特にVertical重視）の加重が貢献。          |\n",
    "| ⑤  | **BurstScore**         | 単純合算でも一定の効果。                        |\n",
    "| ⑥  | **SpeedScore**         | 単純速度も予測に寄与。ただし他のJump/Powerよりは弱い。    |\n",
    "| ⑦  | **ExplosiveAgility**   | 複合だが他と強く相関しているため冗長性ありか。             |\n",
    "| ⑧  | **ASI**                | 総合スコアは意外と中程度。個別で見た方が有効かもしれない。       |\n",
    "| ⑨  | **AccelerationIndex**  | SpeedとAgilityの平均。重みが薄まり貢献度低。        |\n"
   ]
  },
  {
   "cell_type": "markdown",
   "id": "a8f9736a",
   "metadata": {},
   "source": [
    "### 🔍 考察\n",
    "PowerScoreとAgilityScoreがトップ2 → ベンチプレスと方向転換能力は、明確にドラフト有無に関与している可能性あり。\n",
    "\n",
    "SpeedScoreは中程度 → 体重補正された直線速度だけでは決定打にならない可能性。\n",
    "\n",
    "複合スコア（ExplosiveAgility, ASI, AccelerationIndex）は伸び悩み → 個別指標の方が予測に貢献している様子。"
   ]
  },
  {
   "cell_type": "markdown",
   "id": "44075b38",
   "metadata": {},
   "source": [
    "### 🔧 今後の応用提案\n",
    "PowerScore・AgilityScore・RSA系のみを使った軽量モデルの構築\n",
    "\n",
    "ASIの重み調整（Speed重視 → Power重視など）で再設計\n",
    "\n",
    "SHAPなどでより詳細なモデル解釈も可能（希望あればご案内）"
   ]
  },
  {
   "cell_type": "markdown",
   "id": "4e16a996",
   "metadata": {},
   "source": [
    "## SHAP（SHapley Additive exPlanations）を用いたモデル解釈"
   ]
  },
  {
   "cell_type": "markdown",
   "id": "d1c9bd1a",
   "metadata": {},
   "source": [
    "### 🔍 SHAPとは？\n",
    "SHAPは「各特徴量が予測にどれだけ寄与したか」を個々の予測値ごとに可視化・定量評価できる手法です。\n",
    "LightGBM との相性が非常に良く、特徴量の**「意味」や「影響の方向性」**を把握するのに適しています。"
   ]
  },
  {
   "cell_type": "markdown",
   "id": "e4ce17b2",
   "metadata": {},
   "source": [
    "### 🧪 LightGBM × SHAP 解釈コード"
   ]
  },
  {
   "cell_type": "code",
   "execution_count": null,
   "id": "c9344ad7",
   "metadata": {},
   "outputs": [],
   "source": [
    "# ① 必要なライブラリをインポート（インストール済前提）\n",
    "import shap\n",
    "import matplotlib.pyplot as plt\n",
    "\n",
    "# ② SHAPのExplainerを作成\n",
    "explainer = shap.TreeExplainer(model)  # 事前に学習済みの LGBMClassifier を指定\n",
    "\n",
    "# ③ SHAP値の計算（例として X_valid を使用）\n",
    "shap_values = explainer.shap_values(X_valid)\n",
    "\n",
    "# ④ 特徴量のサマリープロット（重要度と影響方向を可視化）\n",
    "shap.summary_plot(shap_values, X_valid, show=True)\n",
    "\n",
    "# ⑤ 特定の特徴量（例：SpeedScore）の詳細プロット（影響の分布を見る）\n",
    "shap.dependence_plot(\"SpeedScore\", shap_values, X_valid)"
   ]
  }
 ],
 "metadata": {
  "kernelspec": {
   "display_name": "Python 3",
   "language": "python",
   "name": "python3"
  },
  "language_info": {
   "codemirror_mode": {
    "name": "ipython",
    "version": 3
   },
   "file_extension": ".py",
   "mimetype": "text/x-python",
   "name": "python",
   "nbconvert_exporter": "python",
   "pygments_lexer": "ipython3",
   "version": "3.13.3"
  }
 },
 "nbformat": 4,
 "nbformat_minor": 5
}
