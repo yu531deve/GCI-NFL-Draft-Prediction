{
 "cells": [
  {
   "cell_type": "code",
   "execution_count": 93,
   "id": "c9516049",
   "metadata": {},
   "outputs": [],
   "source": [
    "#テンプレート\n",
    "\n",
    "# モジュールのインポート\n",
    "import numpy as np  # 数値計算や配列操作を行うためのライブラリ\n",
    "import pandas as pd  # 表形式のデータを扱うためのライブラリ\n",
    "import matplotlib.pyplot as plt  # データ可視化のための基本的なグラフ描画ライブラリ\n",
    "import seaborn as sns  # 高機能な統計グラフを描画するライブラリ\n",
    "import lightgbm as lgb\n",
    "import optuna\n",
    "import os\n",
    "import datetime\n",
    "from sklearn.preprocessing import LabelEncoder  # カテゴリ変数を数値に変換するエンコーダ\n",
    "from sklearn.metrics import roc_auc_score  # ROC AUCスコアを計算する評価指標\n",
    "from sklearn.model_selection import KFold  # 通常のK分割交差検証（今回使用）\n",
    "from lightgbm import LGBMClassifier  # LightGBMのモデルクラス\n",
    "\n",
    "\n",
    "\n",
    "# 読み込むデータが格納されたディレクトリのパス（※必要に応じて変更の必要があります）\n",
    "PATH = '../data/'\n",
    "\n",
    "\n",
    "df = pd.read_csv(PATH + 'train.csv')  # 学習用データの読み込み\n",
    "test = pd.read_csv(PATH + 'test.csv')    # テスト用データの読み込み"
   ]
  },
  {
   "cell_type": "code",
   "execution_count": 94,
   "id": "94a5c949",
   "metadata": {},
   "outputs": [
    {
     "name": "stdout",
     "output_type": "stream",
     "text": [
      "Age | 欠損率: 15.642% | 欠損あり: 0.018, 欠損なし: 0.765, 差: 0.747\n",
      "Sprint_40yd | 欠損率: 5.214% | 欠損あり: 0.586, 欠損なし: 0.652, 差: 0.066\n",
      "Vertical_Jump | 欠損率: 19.921% | 欠損あり: 0.585, 欠損なし: 0.664, 差: 0.079\n",
      "Bench_Press_Reps | 欠損率: 25.926% | 欠損あり: 0.602, 欠損なし: 0.665, 差: 0.063\n",
      "Broad_Jump | 欠損率: 20.892% | 欠損あり: 0.594, 欠損なし: 0.663, 差: 0.069\n",
      "Agility_3cone | 欠損率: 34.880% | 欠損あり: 0.605, 欠損なし: 0.671, 差: 0.066\n",
      "Shuttle | 欠損率: 32.794% | 欠損あり: 0.601, 欠損なし: 0.671, 差: 0.071\n"
     ]
    }
   ],
   "source": [
    "# 欠損状況・ドラフト率差・欠損率を一覧表示\n",
    "for col in df.columns:\n",
    "    if df[col].isnull().any():\n",
    "        missing_rate = df[col].isnull().mean()\n",
    "        drafted_with_na = df[df[col].isnull()][\"Drafted\"].mean()\n",
    "        drafted_without_na = df[df[col].notnull()][\"Drafted\"].mean()\n",
    "        diff = abs(drafted_with_na - drafted_without_na)\n",
    "        print(f\"{col} | 欠損率: {missing_rate:.3%} | 欠損あり: {drafted_with_na:.3f}, 欠損なし: {drafted_without_na:.3f}, 差: {diff:.3f}\")\n"
   ]
  },
  {
   "cell_type": "markdown",
   "id": "e829013d",
   "metadata": {},
   "source": [
    "# 📌 特徴量別の処理一覧"
   ]
  },
  {
   "cell_type": "markdown",
   "id": "cf41e0e5",
   "metadata": {},
   "source": [
    "## ① Id\n",
    "削除"
   ]
  },
  {
   "cell_type": "code",
   "execution_count": 95,
   "id": "c942463f",
   "metadata": {},
   "outputs": [],
   "source": [
    "# Id 削除\n",
    "df = df.drop(columns=[\"Id\"])\n",
    "test = test.drop(columns=[\"Id\"])"
   ]
  },
  {
   "cell_type": "markdown",
   "id": "c1e98fd3",
   "metadata": {},
   "source": [
    "## ② Age\n",
    "欠損を -1 で補完（Age_filled）\n",
    "\n",
    "欠損フラグ（Age_missing）\n",
    "\n",
    "元の Age カラムは 削除"
   ]
  },
  {
   "cell_type": "code",
   "execution_count": 96,
   "id": "d9376353",
   "metadata": {},
   "outputs": [],
   "source": [
    "# Age 欠損補完・欠損フラグ・元カラム削除\n",
    "df[\"Age_filled\"] = df[\"Age\"].fillna(-1)\n",
    "df[\"Age_missing\"] = df[\"Age\"].isna().astype(int)\n",
    "df = df.drop(columns=[\"Age\"])\n",
    "\n",
    "test[\"Age_filled\"] = test[\"Age\"].fillna(-1)\n",
    "test[\"Age_missing\"] = test[\"Age\"].isna().astype(int)\n",
    "test = test.drop(columns=[\"Age\"])\n"
   ]
  },
  {
   "cell_type": "code",
   "execution_count": 97,
   "id": "ff9db186",
   "metadata": {},
   "outputs": [],
   "source": [
    "# 欠損カラム抽出\n",
    "na_cols = df.columns[df.isnull().any()]\n",
    "\n",
    "# 中央値で補完（df / test 両方）\n",
    "for col in na_cols:\n",
    "    median = df[col].median()\n",
    "    df[col] = df[col].fillna(median)\n",
    "    test[col] = test[col].fillna(median)"
   ]
  },
  {
   "cell_type": "code",
   "execution_count": 98,
   "id": "d6f31de9",
   "metadata": {},
   "outputs": [
    {
     "name": "stdout",
     "output_type": "stream",
     "text": [
      "Year                0\n",
      "School              0\n",
      "Height              0\n",
      "Weight              0\n",
      "Sprint_40yd         0\n",
      "Vertical_Jump       0\n",
      "Bench_Press_Reps    0\n",
      "Broad_Jump          0\n",
      "Agility_3cone       0\n",
      "Shuttle             0\n",
      "Player_Type         0\n",
      "Position_Type       0\n",
      "Position            0\n",
      "Drafted             0\n",
      "Age_filled          0\n",
      "Age_missing         0\n",
      "dtype: int64\n",
      "Index([], dtype='object')\n"
     ]
    }
   ],
   "source": [
    "# 欠損が残っているカラムと件数を確認\n",
    "print(df.isnull().sum())\n",
    "\n",
    "# 欠損が残っているカラムのみ抽出（確認用）\n",
    "print(df.columns[df.isnull().any()])\n"
   ]
  },
  {
   "cell_type": "markdown",
   "id": "23fef515",
   "metadata": {},
   "source": [
    "## ③ Year\n",
    "特別な処理なし（そのまま使用）"
   ]
  },
  {
   "cell_type": "code",
   "execution_count": 99,
   "id": "5dff5ed0",
   "metadata": {},
   "outputs": [],
   "source": [
    "# Year はそのまま使用（処理不要）\n",
    "# df[\"Year\"], test[\"Year\"] をそのまま残す"
   ]
  },
  {
   "cell_type": "markdown",
   "id": "6ca15344",
   "metadata": {},
   "source": [
    "## ④ Height\n",
    "そのまま使用\n",
    "\n",
    "BMI 作成に使用\n"
   ]
  },
  {
   "cell_type": "code",
   "execution_count": 100,
   "id": "c75be8f4",
   "metadata": {},
   "outputs": [],
   "source": [
    "# Height はそのまま使用\n",
    "# BMI 作成に使用\n",
    "df[\"BMI\"] = df[\"Weight\"] / (df[\"Height\"]/100)**2\n",
    "test[\"BMI\"] = test[\"Weight\"] / (test[\"Height\"]/100)**2"
   ]
  },
  {
   "cell_type": "markdown",
   "id": "e4e7a20c",
   "metadata": {},
   "source": [
    "## ⑤ Weight\n",
    "そのまま使用\n",
    "\n",
    "Weight_lbs = Weight * 2.20462 に変換\n",
    "\n",
    "SpeedScore 作成に使用\n",
    " \n",
    "BMI 作成に使用"
   ]
  },
  {
   "cell_type": "code",
   "execution_count": 101,
   "id": "b8cc0f9f",
   "metadata": {},
   "outputs": [],
   "source": [
    "# Weight はそのまま使用\n",
    "# lbs 変換\n",
    "df[\"Weight_lbs\"] = df[\"Weight\"] * 2.20462\n",
    "test[\"Weight_lbs\"] = test[\"Weight\"] * 2.20462\n",
    "\n",
    "# SpeedScore 作成\n",
    "df[\"SpeedScore\"] = df[\"Weight_lbs\"] * (200 / df[\"Sprint_40yd\"]**2)\n",
    "test[\"SpeedScore\"] = test[\"Weight_lbs\"] * (200 / test[\"Sprint_40yd\"]**2)\n"
   ]
  },
  {
   "cell_type": "markdown",
   "id": "a2d5d82b",
   "metadata": {},
   "source": [
    "## ⑥ Sprint_40yd\n",
    "そのまま使用\n",
    "\n",
    "SpeedScore 作成に使用\n",
    "\n",
    "RSA特徴量セットに含む\n",
    "\n"
   ]
  },
  {
   "cell_type": "code",
   "execution_count": 102,
   "id": "acbd9fe9",
   "metadata": {},
   "outputs": [],
   "source": [
    "# Sprint_40yd はそのまま使用\n",
    "# SpeedScore 作成に使用済\n",
    "# RSA特徴量作成時に利用（後述）"
   ]
  },
  {
   "cell_type": "markdown",
   "id": "fa273378",
   "metadata": {},
   "source": [
    "## ⑦ Vertical_Jump\n",
    "そのまま使用\n",
    "\n",
    "BurstScore 作成に使用\n",
    "\n",
    "RSA特徴量セットに含む"
   ]
  },
  {
   "cell_type": "code",
   "execution_count": 103,
   "id": "d3d086e7",
   "metadata": {},
   "outputs": [],
   "source": [
    "# Vertical_Jump はそのまま使用\n",
    "# BurstScore 作成\n",
    "df[\"BurstScore\"] = df[\"Vertical_Jump\"] + df[\"Broad_Jump\"]\n",
    "test[\"BurstScore\"] = test[\"Vertical_Jump\"] + test[\"Broad_Jump\"]\n"
   ]
  },
  {
   "cell_type": "markdown",
   "id": "b368b2fc",
   "metadata": {},
   "source": [
    "## ⑧ Bench_Press_Reps\n",
    "そのまま使用\n",
    "\n",
    "RSA特徴量セットに含む"
   ]
  },
  {
   "cell_type": "code",
   "execution_count": 104,
   "id": "b3d21cd2",
   "metadata": {},
   "outputs": [],
   "source": [
    "# Bench_Press_Reps はそのまま使用\n",
    "# RSA特徴量作成時に利用（後述）\n"
   ]
  },
  {
   "cell_type": "markdown",
   "id": "ece6d133",
   "metadata": {},
   "source": [
    "## ⑨ Broad_Jump\n",
    "そのまま使用\n",
    "\n",
    "BurstScore 作成に使用"
   ]
  },
  {
   "cell_type": "code",
   "execution_count": 105,
   "id": "1c4153b8",
   "metadata": {},
   "outputs": [],
   "source": [
    "# Broad_Jump はそのまま使用\n",
    "# BurstScore 作成に使用済\n"
   ]
  },
  {
   "cell_type": "markdown",
   "id": "19d1e910",
   "metadata": {},
   "source": [
    "## ⑩ Agility_3cone\n",
    "そのまま使用\n",
    "\n",
    "AgilityScore 作成に使用\n",
    "\n",
    "RSA特徴量セットに含む"
   ]
  },
  {
   "cell_type": "code",
   "execution_count": 106,
   "id": "d1be3a8e",
   "metadata": {},
   "outputs": [],
   "source": [
    "# Agility_3cone はそのまま使用\n",
    "# AgilityScore 作成\n",
    "df[\"AgilityScore\"] = df[\"Shuttle\"] + df[\"Agility_3cone\"]\n",
    "test[\"AgilityScore\"] = test[\"Shuttle\"] + test[\"Agility_3cone\"]"
   ]
  },
  {
   "cell_type": "markdown",
   "id": "8d0fb77f",
   "metadata": {},
   "source": [
    "## ⑪ Shuttle\n",
    "そのまま使用\n",
    "\n",
    "AgilityScore 作成に使用\n",
    "\n",
    "RSA特徴量セットに含む\n",
    "\n"
   ]
  },
  {
   "cell_type": "code",
   "execution_count": 107,
   "id": "10630a49",
   "metadata": {},
   "outputs": [],
   "source": [
    "# Shuttle はそのまま使用\n",
    "# AgilityScore 作成に使用済\n"
   ]
  },
  {
   "cell_type": "markdown",
   "id": "7ccc64d2",
   "metadata": {},
   "source": [
    "## ⑫ Player_Type\n",
    "削除"
   ]
  },
  {
   "cell_type": "code",
   "execution_count": 108,
   "id": "6d755d8a",
   "metadata": {},
   "outputs": [],
   "source": [
    "# Player_Type 削除\n",
    "df = df.drop(columns=[\"Player_Type\"])\n",
    "test = test.drop(columns=[\"Player_Type\"])\n"
   ]
  },
  {
   "cell_type": "markdown",
   "id": "0228d422",
   "metadata": {},
   "source": [
    "## ⑬ Position_Type\n",
    "削除"
   ]
  },
  {
   "cell_type": "code",
   "execution_count": 109,
   "id": "25638083",
   "metadata": {},
   "outputs": [],
   "source": [
    "# Position_Type 削除\n",
    "df = df.drop(columns=[\"Position_Type\"])\n",
    "test = test.drop(columns=[\"Position_Type\"])\n"
   ]
  },
  {
   "cell_type": "markdown",
   "id": "f541a58f",
   "metadata": {},
   "source": [
    "## ⑭ Position\n",
    "Target Encoding\n",
    "\n",
    "\\text{Position_encoded} = E[\\text{Drafted}|\\text{Position}]\n",
    "Position Group Encoding\n",
    "\n",
    "\\text{Position_group_encoded} = E[\\text{Drafted}|\\text{Position_group}]\n",
    "（Position_group は map_position_group() により生成）\n",
    "\n",
    "元の Position, Position_group は 削除"
   ]
  },
  {
   "cell_type": "code",
   "execution_count": 110,
   "id": "974ed934",
   "metadata": {},
   "outputs": [],
   "source": [
    "# Position Target Encoding\n",
    "position_target_map = df.groupby(\"Position\")[\"Drafted\"].mean()\n",
    "df[\"Position_encoded\"] = df[\"Position\"].map(position_target_map)\n",
    "test[\"Position_encoded\"] = test[\"Position\"].map(position_target_map)\n",
    "test[\"Position_encoded\"] = test[\"Position_encoded\"].fillna(df[\"Position_encoded\"].mean())\n",
    "\n",
    "# Position Group Encoding\n",
    "def map_position_group(pos):\n",
    "    if pos in [\"K\", \"P\", \"LS\"]:\n",
    "        return \"Specialist\"\n",
    "    elif pos in [\"WR\", \"RB\", \"TE\"]:\n",
    "        return \"OffensiveSkill\"\n",
    "    elif pos in [\"OT\", \"OG\", \"C\"]:\n",
    "        return \"OffensiveLine\"\n",
    "    elif pos in [\"DE\", \"DT\"]:\n",
    "        return \"DefensiveLine\"\n",
    "    elif pos in [\"OLB\", \"ILB\"]:\n",
    "        return \"Linebacker\"\n",
    "    elif pos in [\"CB\", \"FS\", \"SS\", \"S\", \"DB\"]:\n",
    "        return \"DefensiveBack\"\n",
    "    elif pos == \"QB\":\n",
    "        return \"Quarterback\"\n",
    "    elif pos == \"FB\":\n",
    "        return \"Fullback\"\n",
    "    else:\n",
    "        return \"Other\"\n",
    "\n",
    "df[\"Position_group\"] = df[\"Position\"].apply(map_position_group)\n",
    "test[\"Position_group\"] = test[\"Position\"].apply(map_position_group)\n",
    "\n",
    "position_group_target_map = df.groupby(\"Position_group\")[\"Drafted\"].mean()\n",
    "df[\"Position_group_encoded\"] = df[\"Position_group\"].map(position_group_target_map)\n",
    "test[\"Position_group_encoded\"] = test[\"Position_group\"].map(position_group_target_map)\n",
    "test[\"Position_group_encoded\"] = test[\"Position_group_encoded\"].fillna(df[\"Position_group_encoded\"].mean())\n",
    "\n",
    "# 元の Position, Position_group を削除\n",
    "df = df.drop(columns=[\"Position\", \"Position_group\"])\n",
    "test = test.drop(columns=[\"Position\", \"Position_group\"])\n"
   ]
  },
  {
   "cell_type": "markdown",
   "id": "3486ecf5",
   "metadata": {},
   "source": [
    "## ⑮ School\n",
    "学校名 (School) そのものは 削除\n",
    "\n",
    "以下の特徴量へ変換して使用：\n",
    "\n",
    "School_Top\n",
    "上位校フラグ（ドメイン知識に基づき主要校のみ 1、それ以外 0）\n",
    "\n",
    "School_Drafted_Count\n",
    "学校ごとの NFL ドラフト指名数\n",
    "\n",
    "School_Drafted_Rate_TE\n",
    "学校ごとの fold-safe Target Encoding によるドラフト率\n",
    "\n",
    "変換後、元の School カラムは削除し、\n",
    "School_Top, School_Drafted_Count, School_Drafted_Rate_TE の 3 特徴量が最終的に使用される。"
   ]
  },
  {
   "cell_type": "code",
   "execution_count": 111,
   "id": "91e4fac7",
   "metadata": {},
   "outputs": [],
   "source": [
    "# School 特徴量生成\n",
    "school_drafted_count = df.groupby(\"School\")[\"Drafted\"].count()\n",
    "school_drafted_rate = df.groupby(\"School\")[\"Drafted\"].mean()\n",
    "top_schools = school_drafted_count.sort_values(ascending=False).head(50).index\n",
    "\n",
    "df[\"School_Top\"] = df[\"School\"].isin(top_schools).astype(int)\n",
    "test[\"School_Top\"] = test[\"School\"].isin(top_schools).astype(int)\n",
    "\n",
    "df[\"School_Drafted_Count\"] = df[\"School\"].map(school_drafted_count)\n",
    "test[\"School_Drafted_Count\"] = test[\"School\"].map(school_drafted_count).fillna(0)\n",
    "\n",
    "school_drafted_rate_map = df.groupby(\"School\")[\"Drafted\"].mean()\n",
    "df[\"School_Drafted_Rate_TE\"] = df[\"School\"].map(school_drafted_rate_map)\n",
    "test[\"School_Drafted_Rate_TE\"] = test[\"School\"].map(school_drafted_rate_map).fillna(df[\"Drafted\"].mean())\n",
    "\n",
    "# 元の School カラム削除\n",
    "df = df.drop(columns=[\"School\"])\n",
    "test = test.drop(columns=[\"School\"])\n"
   ]
  },
  {
   "cell_type": "markdown",
   "id": "cc8b5141",
   "metadata": {},
   "source": [
    "## 🎯 RSA特徴量（Relative Score Analysis）\n",
    "以下の特徴量を基に作成：\n",
    "\n",
    "Sprint_40yd, Vertical_Jump, Bench_Press_Reps, Shuttle, Agility_3cone"
   ]
  },
  {
   "cell_type": "code",
   "execution_count": 112,
   "id": "5422ff77",
   "metadata": {},
   "outputs": [],
   "source": [
    "# RSA特徴量作成\n",
    "rsa_cols = [\"Sprint_40yd\", \"Vertical_Jump\", \"Bench_Press_Reps\", \"Shuttle\", \"Agility_3cone\"]\n",
    "\n",
    "for col in rsa_cols:\n",
    "    mean = df[col].mean()\n",
    "    std = df[col].std()\n",
    "    \n",
    "    df[f\"RSA_{col}\"] = (df[col] - mean) / std\n",
    "    test[f\"RSA_{col}\"] = (test[col] - mean) / std\n"
   ]
  },
  {
   "cell_type": "markdown",
   "id": "ca167efc",
   "metadata": {},
   "source": [
    "## ✅ 生成される新特徴量まとめ\n",
    "BurstScore\n",
    "\n",
    "AgilityScore\n",
    "\n",
    "SpeedScore\n",
    "\n",
    "BMI\n",
    "\n",
    "RSA_* 系特徴量\n",
    "\n",
    "School_* 系特徴量\n",
    "\n",
    "Position_encoded, Position_group_encoded\n",
    "\n",
    "Age_filled, Age_missing"
   ]
  },
  {
   "cell_type": "code",
   "execution_count": 113,
   "id": "7ca61781",
   "metadata": {},
   "outputs": [
    {
     "name": "stdout",
     "output_type": "stream",
     "text": [
      "['Year', 'Height', 'Weight', 'Sprint_40yd', 'Vertical_Jump', 'Bench_Press_Reps', 'Broad_Jump', 'Agility_3cone', 'Shuttle', 'Drafted', 'Age_filled', 'Age_missing', 'BMI', 'Weight_lbs', 'SpeedScore', 'BurstScore', 'AgilityScore', 'Position_encoded', 'Position_group_encoded', 'School_Top', 'School_Drafted_Count', 'School_Drafted_Rate_TE', 'RSA_Sprint_40yd', 'RSA_Vertical_Jump', 'RSA_Bench_Press_Reps', 'RSA_Shuttle', 'RSA_Agility_3cone']\n",
      "   Year  Height      Weight  Sprint_40yd  Vertical_Jump  Bench_Press_Reps  \\\n",
      "0  2011  1.9050  140.160042         5.39          59.69              29.0   \n",
      "1  2011  1.8288   87.089735         4.31         101.60              16.0   \n",
      "2  2018  1.8542   92.986436         4.51          91.44              10.0   \n",
      "3  2010  1.9304  148.778297         5.09          76.20              39.0   \n",
      "4  2016  1.8796   92.079251         4.64          78.74              20.0   \n",
      "\n",
      "   Broad_Jump  Agility_3cone  Shuttle  Drafted  ...  Position_encoded  \\\n",
      "0      251.46           7.91     4.94      1.0  ...          0.642384   \n",
      "1      332.74           7.13     4.35      1.0  ...          0.594937   \n",
      "2      309.88           6.95     4.37      1.0  ...          0.594937   \n",
      "3      254.00           8.12     4.71      1.0  ...          0.715000   \n",
      "4      281.94           7.13     4.20      1.0  ...          0.594937   \n",
      "\n",
      "   Position_group_encoded  School_Top  School_Drafted_Count  \\\n",
      "0                0.664368           0                     1   \n",
      "1                0.620818           0                     3   \n",
      "2                0.620818           0                    13   \n",
      "3                0.708440           0                    14   \n",
      "4                0.620818           1                    31   \n",
      "\n",
      "   School_Drafted_Rate_TE  RSA_Sprint_40yd  RSA_Vertical_Jump  \\\n",
      "0                1.000000         2.155872          -2.491256   \n",
      "1                1.000000        -1.542230           1.881175   \n",
      "2                0.461538        -0.857397           0.821191   \n",
      "3                0.500000         1.128621          -0.768783   \n",
      "4                0.741935        -0.412255          -0.503787   \n",
      "\n",
      "   RSA_Bench_Press_Reps  RSA_Shuttle  RSA_Agility_3cone  \n",
      "0              1.599277     2.559636           2.134237  \n",
      "1             -0.756630    -0.152693          -0.195363  \n",
      "2             -1.843971    -0.060750          -0.732963  \n",
      "3              3.411513     1.502287           2.761438  \n",
      "4             -0.031735    -0.842269          -0.195363  \n",
      "\n",
      "[5 rows x 27 columns]\n",
      "Year                      0\n",
      "Height                    0\n",
      "Weight                    0\n",
      "Sprint_40yd               0\n",
      "Vertical_Jump             0\n",
      "Bench_Press_Reps          0\n",
      "Broad_Jump                0\n",
      "Agility_3cone             0\n",
      "Shuttle                   0\n",
      "Drafted                   0\n",
      "Age_filled                0\n",
      "Age_missing               0\n",
      "BMI                       0\n",
      "Weight_lbs                0\n",
      "SpeedScore                0\n",
      "BurstScore                0\n",
      "AgilityScore              0\n",
      "Position_encoded          0\n",
      "Position_group_encoded    0\n",
      "School_Top                0\n",
      "School_Drafted_Count      0\n",
      "School_Drafted_Rate_TE    0\n",
      "RSA_Sprint_40yd           0\n",
      "RSA_Vertical_Jump         0\n",
      "RSA_Bench_Press_Reps      0\n",
      "RSA_Shuttle               0\n",
      "RSA_Agility_3cone         0\n",
      "dtype: int64\n",
      "Year                      0.0\n",
      "Height                    0.0\n",
      "Weight                    0.0\n",
      "Sprint_40yd               0.0\n",
      "Vertical_Jump             0.0\n",
      "Bench_Press_Reps          0.0\n",
      "Broad_Jump                0.0\n",
      "Agility_3cone             0.0\n",
      "Shuttle                   0.0\n",
      "Drafted                   0.0\n",
      "Age_filled                0.0\n",
      "Age_missing               0.0\n",
      "BMI                       0.0\n",
      "Weight_lbs                0.0\n",
      "SpeedScore                0.0\n",
      "BurstScore                0.0\n",
      "AgilityScore              0.0\n",
      "Position_encoded          0.0\n",
      "Position_group_encoded    0.0\n",
      "School_Top                0.0\n",
      "School_Drafted_Count      0.0\n",
      "School_Drafted_Rate_TE    0.0\n",
      "RSA_Sprint_40yd           0.0\n",
      "RSA_Vertical_Jump         0.0\n",
      "RSA_Bench_Press_Reps      0.0\n",
      "RSA_Shuttle               0.0\n",
      "RSA_Agility_3cone         0.0\n",
      "dtype: float64\n"
     ]
    }
   ],
   "source": [
    "# 📌 dfの中身確認（カラム一覧、先頭5行、欠損状況）\n",
    "\n",
    "# カラム一覧\n",
    "print(df.columns.tolist())\n",
    "\n",
    "# 先頭5行\n",
    "print(df.head())\n",
    "\n",
    "# 欠損状況（件数）\n",
    "print(df.isnull().sum())\n",
    "\n",
    "# 欠損状況（割合）\n",
    "print(df.isnull().mean())\n"
   ]
  },
  {
   "cell_type": "code",
   "execution_count": 114,
   "id": "cf1b9f12",
   "metadata": {},
   "outputs": [],
   "source": [
    "# 目的変数と説明変数に分割\n",
    "y = df[\"Drafted\"]\n",
    "X = df.drop(columns=[\"Drafted\"])\n"
   ]
  },
  {
   "cell_type": "code",
   "execution_count": 121,
   "id": "358063df",
   "metadata": {},
   "outputs": [
    {
     "name": "stdout",
     "output_type": "stream",
     "text": [
      "[LightGBM] [Info] Number of positive: 1445, number of negative: 779\n",
      "[LightGBM] [Info] Auto-choosing col-wise multi-threading, the overhead of testing was 0.000570 seconds.\n",
      "You can set `force_col_wise=true` to remove the overhead.\n",
      "[LightGBM] [Info] Total Bins 2402\n",
      "[LightGBM] [Info] Number of data points in the train set: 2224, number of used features: 26\n",
      "[LightGBM] [Info] [binary:BoostFromScore]: pavg=0.649730 -> initscore=0.617854\n",
      "[LightGBM] [Info] Start training from score 0.617854\n",
      "Training until validation scores don't improve for 30 rounds\n",
      "[LightGBM] [Warning] No further splits with positive gain, best gain: -inf\n",
      "[LightGBM] [Warning] No further splits with positive gain, best gain: -inf\n",
      "Early stopping, best iteration is:\n",
      "[92]\tvalid_0's auc: 0.86296\tvalid_0's binary_logloss: 0.41072\n",
      "✅ Fold 1 - Train AUC: 0.8927, Validation AUC: 0.8630\n"
     ]
    },
    {
     "data": {
      "image/png": "[encoded data removed]",
      "text/plain": [
       "<Figure size 800x600 with 1 Axes>"
      ]
     },
     "metadata": {},
     "output_type": "display_data"
    },
    {
     "name": "stdout",
     "output_type": "stream",
     "text": [
      "[LightGBM] [Info] Number of positive: 1448, number of negative: 777\n",
      "[LightGBM] [Info] Auto-choosing col-wise multi-threading, the overhead of testing was 0.011145 seconds.\n",
      "You can set `force_col_wise=true` to remove the overhead.\n",
      "[LightGBM] [Info] Total Bins 2399\n",
      "[LightGBM] [Info] Number of data points in the train set: 2225, number of used features: 26\n",
      "[LightGBM] [Info] [binary:BoostFromScore]: pavg=0.650787 -> initscore=0.622498\n",
      "[LightGBM] [Info] Start training from score 0.622498\n",
      "Training until validation scores don't improve for 30 rounds\n",
      "[LightGBM] [Warning] No further splits with positive gain, best gain: -inf\n",
      "[LightGBM] [Warning] No further splits with positive gain, best gain: -inf\n",
      "[LightGBM] [Warning] No further splits with positive gain, best gain: -inf\n",
      "Early stopping, best iteration is:\n",
      "[131]\tvalid_0's auc: 0.859954\tvalid_0's binary_logloss: 0.417628\n",
      "✅ Fold 2 - Train AUC: 0.9026, Validation AUC: 0.8600\n",
      "[LightGBM] [Info] Number of positive: 1442, number of negative: 783\n",
      "[LightGBM] [Info] Auto-choosing col-wise multi-threading, the overhead of testing was 0.001313 seconds.\n",
      "You can set `force_col_wise=true` to remove the overhead.\n",
      "[LightGBM] [Info] Total Bins 2411\n",
      "[LightGBM] [Info] Number of data points in the train set: 2225, number of used features: 26\n",
      "[LightGBM] [Info] [binary:BoostFromScore]: pavg=0.648090 -> initscore=0.610654\n",
      "[LightGBM] [Info] Start training from score 0.610654\n",
      "Training until validation scores don't improve for 30 rounds\n",
      "[LightGBM] [Warning] No further splits with positive gain, best gain: -inf\n",
      "[LightGBM] [Warning] No further splits with positive gain, best gain: -inf\n",
      "Early stopping, best iteration is:\n",
      "[55]\tvalid_0's auc: 0.842801\tvalid_0's binary_logloss: 0.447181\n",
      "✅ Fold 3 - Train AUC: 0.8876, Validation AUC: 0.8428\n",
      "[LightGBM] [Info] Number of positive: 1438, number of negative: 787\n",
      "[LightGBM] [Info] Auto-choosing col-wise multi-threading, the overhead of testing was 0.000842 seconds.\n",
      "You can set `force_col_wise=true` to remove the overhead.\n",
      "[LightGBM] [Info] Total Bins 2430\n",
      "[LightGBM] [Info] Number of data points in the train set: 2225, number of used features: 26\n",
      "[LightGBM] [Info] [binary:BoostFromScore]: pavg=0.646292 -> initscore=0.602780\n",
      "[LightGBM] [Info] Start training from score 0.602780\n",
      "Training until validation scores don't improve for 30 rounds\n",
      "[LightGBM] [Warning] No further splits with positive gain, best gain: -inf\n",
      "[LightGBM] [Warning] No further splits with positive gain, best gain: -inf\n",
      "[LightGBM] [Warning] No further splits with positive gain, best gain: -inf\n",
      "[LightGBM] [Warning] No further splits with positive gain, best gain: -inf\n",
      "[LightGBM] [Warning] No further splits with positive gain, best gain: -inf\n",
      "[LightGBM] [Warning] No further splits with positive gain, best gain: -inf\n",
      "[LightGBM] [Warning] No further splits with positive gain, best gain: -inf\n",
      "[LightGBM] [Warning] No further splits with positive gain, best gain: -inf\n",
      "[LightGBM] [Warning] No further splits with positive gain, best gain: -inf\n",
      "[LightGBM] [Warning] No further splits with positive gain, best gain: -inf\n",
      "[LightGBM] [Warning] No further splits with positive gain, best gain: -inf\n",
      "[LightGBM] [Warning] No further splits with positive gain, best gain: -inf\n",
      "[LightGBM] [Warning] No further splits with positive gain, best gain: -inf\n",
      "[LightGBM] [Warning] No further splits with positive gain, best gain: -inf\n",
      "[LightGBM] [Warning] No further splits with positive gain, best gain: -inf\n",
      "[LightGBM] [Warning] No further splits with positive gain, best gain: -inf\n",
      "[LightGBM] [Warning] No further splits with positive gain, best gain: -inf\n",
      "[LightGBM] [Warning] No further splits with positive gain, best gain: -inf\n",
      "[LightGBM] [Warning] No further splits with positive gain, best gain: -inf\n",
      "[LightGBM] [Warning] No further splits with positive gain, best gain: -inf\n",
      "[LightGBM] [Warning] No further splits with positive gain, best gain: -inf\n",
      "[LightGBM] [Warning] No further splits with positive gain, best gain: -inf\n",
      "[LightGBM] [Warning] No further splits with positive gain, best gain: -inf\n",
      "[LightGBM] [Warning] No further splits with positive gain, best gain: -inf\n",
      "[LightGBM] [Warning] No further splits with positive gain, best gain: -inf\n",
      "[LightGBM] [Warning] No further splits with positive gain, best gain: -inf\n",
      "[LightGBM] [Warning] No further splits with positive gain, best gain: -inf\n",
      "[LightGBM] [Warning] No further splits with positive gain, best gain: -inf\n",
      "[LightGBM] [Warning] No further splits with positive gain, best gain: -inf\n",
      "[LightGBM] [Warning] No further splits with positive gain, best gain: -inf\n",
      "[LightGBM] [Warning] No further splits with positive gain, best gain: -inf\n",
      "[LightGBM] [Warning] No further splits with positive gain, best gain: -inf\n",
      "[LightGBM] [Warning] No further splits with positive gain, best gain: -inf\n",
      "[LightGBM] [Warning] No further splits with positive gain, best gain: -inf\n",
      "[LightGBM] [Warning] No further splits with positive gain, best gain: -inf\n",
      "[LightGBM] [Warning] No further splits with positive gain, best gain: -inf\n",
      "[LightGBM] [Warning] No further splits with positive gain, best gain: -inf\n",
      "[LightGBM] [Warning] No further splits with positive gain, best gain: -inf\n",
      "[LightGBM] [Warning] Stopped training because there are no more leaves that meet the split requirements\n",
      "[LightGBM] [Warning] No further splits with positive gain, best gain: -inf\n",
      "[LightGBM] [Warning] Stopped training because there are no more leaves that meet the split requirements\n",
      "[LightGBM] [Warning] No further splits with positive gain, best gain: -inf\n",
      "[LightGBM] [Warning] Stopped training because there are no more leaves that meet the split requirements\n",
      "[LightGBM] [Warning] No further splits with positive gain, best gain: -inf\n",
      "[LightGBM] [Warning] Stopped training because there are no more leaves that meet the split requirements\n",
      "[LightGBM] [Warning] No further splits with positive gain, best gain: -inf\n",
      "[LightGBM] [Warning] Stopped training because there are no more leaves that meet the split requirements\n",
      "[LightGBM] [Warning] No further splits with positive gain, best gain: -inf\n",
      "[LightGBM] [Warning] Stopped training because there are no more leaves that meet the split requirements\n",
      "[LightGBM] [Warning] No further splits with positive gain, best gain: -inf\n",
      "[LightGBM] [Warning] Stopped training because there are no more leaves that meet the split requirements\n",
      "[LightGBM] [Warning] No further splits with positive gain, best gain: -inf\n",
      "[LightGBM] [Warning] Stopped training because there are no more leaves that meet the split requirements\n",
      "Early stopping, best iteration is:\n",
      "[260]\tvalid_0's auc: 0.833049\tvalid_0's binary_logloss: 0.431886\n",
      "✅ Fold 4 - Train AUC: 0.9135, Validation AUC: 0.8330\n",
      "[LightGBM] [Info] Number of positive: 1439, number of negative: 786\n",
      "[LightGBM] [Info] Auto-choosing col-wise multi-threading, the overhead of testing was 0.000575 seconds.\n",
      "You can set `force_col_wise=true` to remove the overhead.\n",
      "[LightGBM] [Info] Total Bins 2407\n",
      "[LightGBM] [Info] Number of data points in the train set: 2225, number of used features: 26\n",
      "[LightGBM] [Info] [binary:BoostFromScore]: pavg=0.646742 -> initscore=0.604747\n",
      "[LightGBM] [Info] Start training from score 0.604747\n",
      "Training until validation scores don't improve for 30 rounds\n",
      "Early stopping, best iteration is:\n",
      "[108]\tvalid_0's auc: 0.870364\tvalid_0's binary_logloss: 0.404835\n",
      "✅ Fold 5 - Train AUC: 0.8936, Validation AUC: 0.8704\n",
      "\n",
      "✅ Average Train AUC: 0.8980\n",
      "✅ Average Validation AUC: 0.8538\n"
     ]
    }
   ],
   "source": [
    "from sklearn.model_selection import KFold\n",
    "from sklearn.metrics import roc_auc_score\n",
    "from lightgbm import LGBMClassifier\n",
    "import lightgbm as lgb\n",
    "import numpy as np\n",
    "import matplotlib.pyplot as plt  # 追加\n",
    "\n",
    "# ✅ 固定パラメータ\n",
    "model = LGBMClassifier(\n",
    "    max_depth=6,\n",
    "    num_leaves=10,\n",
    "    min_child_samples=38,\n",
    "    reg_alpha=8.18,\n",
    "    reg_lambda=8.07,\n",
    "    learning_rate=0.0442,\n",
    "    n_estimators=1000,\n",
    "    subsample=0.8,\n",
    "    colsample_bytree=0.8,\n",
    "    random_state=42\n",
    ")\n",
    "\n",
    "kf = KFold(n_splits=5, shuffle=True, random_state=42)\n",
    "train_aucs = []\n",
    "val_aucs = []\n",
    "\n",
    "for fold, (train_idx, valid_idx) in enumerate(kf.split(X)):\n",
    "    X_train, X_valid = X.iloc[train_idx], X.iloc[valid_idx]\n",
    "    y_train, y_valid = y.iloc[train_idx], y.iloc[valid_idx]\n",
    "\n",
    "    model.fit(\n",
    "        X_train, y_train,\n",
    "        eval_set=[(X_valid, y_valid)],\n",
    "        eval_metric='auc',\n",
    "        callbacks=[\n",
    "            lgb.early_stopping(stopping_rounds=30),\n",
    "            lgb.log_evaluation(0)\n",
    "        ]\n",
    "    )\n",
    "\n",
    "    y_train_pred = model.predict_proba(X_train)[:, 1]\n",
    "    y_valid_pred = model.predict_proba(X_valid)[:, 1]\n",
    "\n",
    "    train_auc = roc_auc_score(y_train, y_train_pred)\n",
    "    val_auc = roc_auc_score(y_valid, y_valid_pred)\n",
    "\n",
    "    train_aucs.append(train_auc)\n",
    "    val_aucs.append(val_auc)\n",
    "\n",
    "    print(f\"✅ Fold {fold + 1} - Train AUC: {train_auc:.4f}, Validation AUC: {val_auc:.4f}\")\n",
    "\n",
    "    if fold == 0:\n",
    "        importances = model.feature_importances_\n",
    "        feature_names = X.columns\n",
    "\n",
    "        # ソート（重要度降順）\n",
    "        sorted_idx = importances.argsort()\n",
    "        sorted_importances = importances[sorted_idx]\n",
    "        sorted_feature_names = feature_names[sorted_idx]\n",
    "\n",
    "        plt.figure(figsize=(8, 6))\n",
    "        plt.barh(sorted_feature_names, sorted_importances)\n",
    "        plt.title(\"Feature Importance (Fold 1 with ASI & RSA Features)\")\n",
    "        plt.xlabel(\"Importance\")\n",
    "        plt.tight_layout()\n",
    "        plt.show()\n",
    "\n",
    "print(f\"\\n✅ Average Train AUC: {np.mean(train_aucs):.4f}\")\n",
    "print(f\"✅ Average Validation AUC: {np.mean(val_aucs):.4f}\")\n"
   ]
  },
  {
   "cell_type": "code",
   "execution_count": 115,
   "id": "146be040",
   "metadata": {},
   "outputs": [
    {
     "name": "stdout",
     "output_type": "stream",
     "text": [
      "✅ 提出ファイルを保存しました: c:\\Users\\81807\\Desktop\\Kaggle\\GCI②(NFL Draft Prediction)\\submissions\\submission_14_0703.csv\n"
     ]
    }
   ],
   "source": [
    "# 🔄 提出用ファイルの作成処理（LightGBMモデルに基づく予測）\n",
    "\n",
    "# original_test を再読み込みして Id を復元\n",
    "original_test = pd.read_csv(PATH + \"test.csv\")\n",
    "\n",
    "# 提出用特徴量列は X.columns で確定させる\n",
    "feature_cols = X.columns.tolist()\n",
    "\n",
    "# test に存在しない列があれば埋める（安全）\n",
    "missing_cols = set(feature_cols) - set(test.columns)\n",
    "for col in missing_cols:\n",
    "    test[col] = 0  # または np.nan / 平均値など\n",
    "\n",
    "# 列順を揃える\n",
    "X_test = test[feature_cols]\n",
    "\n",
    "\n",
    "# LightGBMモデルで予測（Drafted=1 の確率）\n",
    "y_pred = model.predict_proba(X_test)[:, 1]\n",
    "\n",
    "# 提出用DataFrameを作成\n",
    "submission = pd.DataFrame({\n",
    "    \"Id\": original_test[\"Id\"],\n",
    "    \"Drafted\": 1 - y_pred  # ← これだけ変更\n",
    "})\n",
    "\n",
    "# 保存ディレクトリをプロジェクトルートに作成\n",
    "root_dir = os.path.abspath(os.path.join(os.getcwd(), \"..\"))\n",
    "save_dir = os.path.join(root_dir, \"submissions\")\n",
    "os.makedirs(save_dir, exist_ok=True)\n",
    "\n",
    "import os\n",
    "import datetime\n",
    "import re  # ← これを忘れずに！\n",
    "\n",
    "try:\n",
    "    import ipynbname\n",
    "    notebook_path = ipynbname.path()\n",
    "    notebook_name = notebook_path.stem  # ファイル名（拡張子なし）\n",
    "except:\n",
    "    notebook_name = \"14_0703_notebook()\"   # fallback\n",
    "\n",
    "# 数字とアンダースコア部分だけ抽出（例：06_0627）\n",
    "match = re.search(r\"\\d{2}_\\d{4}\", notebook_name)\n",
    "tag = match.group() if match else notebook_name\n",
    "\n",
    "filename = f\"submission_{tag}.csv\"\n",
    "\n",
    "\n",
    "# 提出ファイル名を組み立てる\n",
    "filename = f\"submission_{tag}.csv\"\n",
    "save_path = os.path.join(save_dir, filename)\n",
    "\n",
    "# 書き出し\n",
    "submission.to_csv(save_path, index=False)\n",
    "print(f\"✅ 提出ファイルを保存しました: {save_path}\")"
   ]
  }
 ],
 "metadata": {
  "kernelspec": {
   "display_name": "Python 3",
   "language": "python",
   "name": "python3"
  },
  "language_info": {
   "codemirror_mode": {
    "name": "ipython",
    "version": 3
   },
   "file_extension": ".py",
   "mimetype": "text/x-python",
   "name": "python",
   "nbconvert_exporter": "python",
   "pygments_lexer": "ipython3",
   "version": "3.13.3"
  }
 },
 "nbformat": 4,
 "nbformat_minor": 5
}
