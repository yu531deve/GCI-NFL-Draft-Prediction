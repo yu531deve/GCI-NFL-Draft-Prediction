{
 "cells": [
  {
   "cell_type": "code",
   "execution_count": 1,
   "id": "8005b5b8",
   "metadata": {},
   "outputs": [],
   "source": [
    "# モジュールのインポート\n",
    "import numpy as np  # 数値計算や配列操作を行うためのライブラリ\n",
    "import pandas as pd  # 表形式のデータを扱うためのライブラリ\n",
    "import matplotlib.pyplot as plt  # データ可視化のための基本的なグラフ描画ライブラリ\n",
    "import seaborn as sns  # 高機能な統計グラフを描画するライブラリ\n",
    "from sklearn.preprocessing import LabelEncoder  # カテゴリ変数を数値に変換するエンコーダ\n",
    "from sklearn.ensemble import RandomForestClassifier  # ランダムフォレストによる分類器\n",
    "from sklearn.model_selection import StratifiedKFold  # 層化K分割交差検証を行うクラス\n",
    "from sklearn.metrics import roc_auc_score  # ROC AUCスコアを計算する評価指標"
   ]
  },
  {
   "cell_type": "code",
   "execution_count": 2,
   "id": "7c6a8741",
   "metadata": {},
   "outputs": [],
   "source": [
    "# 読み込むデータが格納されたディレクトリのパス（※必要に応じて変更の必要があります）\n",
    "PATH = '../data/'\n",
    "\n",
    "\n",
    "train = pd.read_csv(PATH + 'train.csv')  # 学習用データの読み込み\n",
    "test = pd.read_csv(PATH + 'test.csv')    # テスト用データの読み込み"
   ]
  },
  {
   "cell_type": "code",
   "execution_count": 3,
   "id": "a62ee676",
   "metadata": {},
   "outputs": [
    {
     "data": {
      "text/plain": [
       "Id                    0\n",
       "Year                  0\n",
       "Age                 435\n",
       "School                0\n",
       "Height                0\n",
       "Weight                0\n",
       "Sprint_40yd         145\n",
       "Vertical_Jump       554\n",
       "Bench_Press_Reps    721\n",
       "Broad_Jump          581\n",
       "Agility_3cone       970\n",
       "Shuttle             912\n",
       "Player_Type           0\n",
       "Position_Type         0\n",
       "Position              0\n",
       "Drafted               0\n",
       "dtype: int64"
      ]
     },
     "execution_count": 3,
     "metadata": {},
     "output_type": "execute_result"
    }
   ],
   "source": [
    "train.isnull().sum()"
   ]
  },
  {
   "cell_type": "code",
   "execution_count": 4,
   "id": "09006b54",
   "metadata": {},
   "outputs": [
    {
     "data": {
      "text/plain": [
       "Id                    0\n",
       "Year                  0\n",
       "Age                 115\n",
       "School                0\n",
       "Height                0\n",
       "Weight                0\n",
       "Sprint_40yd          29\n",
       "Vertical_Jump       143\n",
       "Bench_Press_Reps    184\n",
       "Broad_Jump          147\n",
       "Agility_3cone       247\n",
       "Shuttle             228\n",
       "Player_Type           0\n",
       "Position_Type         0\n",
       "Position              0\n",
       "dtype: int64"
      ]
     },
     "execution_count": 4,
     "metadata": {},
     "output_type": "execute_result"
    }
   ],
   "source": [
    "test.isnull().sum()"
   ]
  },
  {
   "cell_type": "code",
   "execution_count": 5,
   "id": "f99f95d8",
   "metadata": {},
   "outputs": [],
   "source": [
    "performance_cols = [\n",
    "    'Sprint_40yd',\n",
    "    'Vertical_Jump',\n",
    "    'Bench_Press_Reps',\n",
    "    'Broad_Jump',\n",
    "    'Agility_3cone',\n",
    "    'Shuttle'\n",
    "]\n",
    "\n",
    "\n",
    "for col in performance_cols:\n",
    "    # 欠損があるかどうかを新しい列として追加（0 or 1）\n",
    "    train[f'{col}_missing'] = train[col].isna().astype(int)\n",
    "    test[f'{col}_missing'] = test[col].isna().astype(int)\n",
    "\n",
    "    # 欠損している元の値を -1 に置き換える（RandomForest で扱いやすい）\n",
    "    train[col] = train[col].fillna(-1)\n",
    "    test[col] = test[col].fillna(-1)\n"
   ]
  },
  {
   "cell_type": "code",
   "execution_count": 6,
   "id": "8f18e818",
   "metadata": {},
   "outputs": [
    {
     "name": "stdout",
     "output_type": "stream",
     "text": [
      "\n",
      "=== Sprint_40yd_missing vs Drafted ===\n",
      "Sprint_40yd_missing\n",
      "0    0.651745\n",
      "1    0.586207\n",
      "Name: Drafted, dtype: float64\n",
      "\n",
      "=== Vertical_Jump_missing vs Drafted ===\n",
      "Vertical_Jump_missing\n",
      "0    0.664122\n",
      "1    0.584838\n",
      "Name: Drafted, dtype: float64\n",
      "\n",
      "=== Bench_Press_Reps_missing vs Drafted ===\n",
      "Bench_Press_Reps_missing\n",
      "0    0.664563\n",
      "1    0.601942\n",
      "Name: Drafted, dtype: float64\n",
      "\n",
      "=== Broad_Jump_missing vs Drafted ===\n",
      "Broad_Jump_missing\n",
      "0    0.662727\n",
      "1    0.593804\n",
      "Name: Drafted, dtype: float64\n",
      "\n",
      "=== Agility_3cone_missing vs Drafted ===\n",
      "Agility_3cone_missing\n",
      "0    0.671452\n",
      "1    0.605155\n",
      "Name: Drafted, dtype: float64\n",
      "\n",
      "=== Shuttle_missing vs Drafted ===\n",
      "Shuttle_missing\n",
      "0    0.671482\n",
      "1    0.600877\n",
      "Name: Drafted, dtype: float64\n"
     ]
    }
   ],
   "source": [
    "for col in performance_cols:\n",
    "    missing_col = f'{col}_missing'\n",
    "    print(f\"\\n=== {missing_col} vs Drafted ===\")\n",
    "    print(train.groupby(missing_col)['Drafted'].mean())\n"
   ]
  },
  {
   "cell_type": "markdown",
   "id": "af06eac2",
   "metadata": {},
   "source": [
    "欠損なしの方がドラフト率は高い"
   ]
  },
  {
   "cell_type": "code",
   "execution_count": 7,
   "id": "cad13ed9",
   "metadata": {},
   "outputs": [
    {
     "data": {
      "image/png": "[encoded data removed]",
      "text/plain": [
       "<Figure size 800x600 with 2 Axes>"
      ]
     },
     "metadata": {},
     "output_type": "display_data"
    }
   ],
   "source": [
    "import seaborn as sns\n",
    "import matplotlib.pyplot as plt\n",
    "\n",
    "# 欠損フラグとDraftedの関係をクロス集計（平均値 = 指名率）\n",
    "heatmap_data = pd.DataFrame({\n",
    "    f'{col}_missing': train.groupby(f'{col}_missing')['Drafted'].mean()\n",
    "    for col in performance_cols\n",
    "}).T\n",
    "\n",
    "# 列名をわかりやすく\n",
    "heatmap_data.columns = ['Drafted=0', 'Drafted=1'] if heatmap_data.shape[1] == 2 else ['Drafted Rate']\n",
    "\n",
    "# ヒートマップの描画\n",
    "plt.figure(figsize=(8, 6))\n",
    "sns.heatmap(heatmap_data, annot=True, cmap='YlGnBu', fmt='.3f')\n",
    "plt.title(\"Drafted Rate by Missing Flags\")\n",
    "plt.ylabel(\"Missing Feature\")\n",
    "plt.show()\n"
   ]
  },
  {
   "cell_type": "code",
   "execution_count": 8,
   "id": "e76bd0a5",
   "metadata": {},
   "outputs": [],
   "source": [
    "# パフォーマンス系の欠損列を対象にカウント（※すでに_missing列があることが前提）\n",
    "train['Num_Missing_Tests'] = train[[f'{col}_missing' for col in performance_cols]].sum(axis=1)\n",
    "test['Num_Missing_Tests'] = test[[f'{col}_missing' for col in performance_cols]].sum(axis=1)\n",
    "\n"
   ]
  },
  {
   "cell_type": "code",
   "execution_count": 9,
   "id": "8e840139",
   "metadata": {},
   "outputs": [
    {
     "name": "stdout",
     "output_type": "stream",
     "text": [
      "Num_Missing_Tests\n",
      "0    0.687545\n",
      "1    0.632159\n",
      "2    0.617100\n",
      "3    0.591241\n",
      "4    0.627119\n",
      "5    0.529167\n",
      "6    0.696429\n",
      "Name: Drafted, dtype: float64\n"
     ]
    }
   ],
   "source": [
    "print(train.groupby('Num_Missing_Tests')['Drafted'].mean())"
   ]
  },
  {
   "cell_type": "markdown",
   "id": "c6fb82ff",
   "metadata": {},
   "source": [
    "欠損値の種類が多いほど、ドラフト率が多いと予測したが、４種類、6種類ではあまり効果を得られず。\n",
    "次に件数も表示してみる。\n"
   ]
  },
  {
   "cell_type": "code",
   "execution_count": 10,
   "id": "652ec096",
   "metadata": {},
   "outputs": [
    {
     "name": "stdout",
     "output_type": "stream",
     "text": [
      "                   Draft Rate  Number of Players\n",
      "Num_Missing_Tests                               \n",
      "0                    0.687545               1389\n",
      "1                    0.632159                454\n",
      "2                    0.617100                269\n",
      "3                    0.591241                137\n",
      "4                    0.627119                236\n",
      "5                    0.529167                240\n",
      "6                    0.696429                 56\n"
     ]
    }
   ],
   "source": [
    "# Draft率と件数を集計\n",
    "missing_stats = train.groupby('Num_Missing_Tests')['Drafted'].agg(['mean', 'count']).rename(columns={\n",
    "    'mean': 'Draft Rate',\n",
    "    'count': 'Number of Players'\n",
    "})\n",
    "\n",
    "# ソートして表示\n",
    "print(missing_stats.sort_index())\n"
   ]
  },
  {
   "cell_type": "markdown",
   "id": "edc1a41c",
   "metadata": {},
   "source": [
    "任意の2つを組み合わせたときにドラフト率に大きな影響がないか確認"
   ]
  },
  {
   "cell_type": "code",
   "execution_count": 11,
   "id": "5ca57130",
   "metadata": {},
   "outputs": [
    {
     "name": "stdout",
     "output_type": "stream",
     "text": [
      "Sprint_40yd: 0\n",
      "Vertical_Jump: 0\n",
      "Bench_Press_Reps: 0\n",
      "Broad_Jump: 0\n",
      "Agility_3cone: 0\n",
      "Shuttle: 0\n"
     ]
    }
   ],
   "source": [
    "for col in performance_cols:\n",
    "    print(f\"{col}: {train[col].isna().sum()}\")"
   ]
  },
  {
   "cell_type": "code",
   "execution_count": 12,
   "id": "971b877d",
   "metadata": {},
   "outputs": [
    {
     "name": "stdout",
     "output_type": "stream",
     "text": [
      "['Id', 'Year', 'Age', 'School', 'Height', 'Weight', 'Sprint_40yd', 'Vertical_Jump', 'Bench_Press_Reps', 'Broad_Jump', 'Agility_3cone', 'Shuttle', 'Player_Type', 'Position_Type', 'Position', 'Drafted', 'Sprint_40yd_missing', 'Vertical_Jump_missing', 'Bench_Press_Reps_missing', 'Broad_Jump_missing', 'Agility_3cone_missing', 'Shuttle_missing', 'Num_Missing_Tests']\n"
     ]
    }
   ],
   "source": [
    "# 列名一覧を確認（コピー用）\n",
    "print(train.columns.tolist())\n"
   ]
  },
  {
   "cell_type": "code",
   "execution_count": 13,
   "id": "d6bb2253",
   "metadata": {},
   "outputs": [
    {
     "name": "stdout",
     "output_type": "stream",
     "text": [
      "(2781, 23)\n",
      "Sprint_40yd      0\n",
      "Vertical_Jump    0\n",
      "dtype: int64\n",
      "0    1.0\n",
      "1    1.0\n",
      "2    1.0\n",
      "3    1.0\n",
      "4    1.0\n",
      "Name: Drafted, dtype: float64\n"
     ]
    }
   ],
   "source": [
    "print(train.shape)\n",
    "print(train[['Sprint_40yd', 'Vertical_Jump']].isna().sum())\n",
    "print(train.loc[:, 'Drafted'].head())\n"
   ]
  },
  {
   "cell_type": "code",
   "execution_count": 14,
   "id": "0c9a49b1",
   "metadata": {},
   "outputs": [],
   "source": [
    "train = pd.read_csv('../data/train.csv')  # 欠損が復活する\n",
    "test = pd.read_csv('../data/test.csv')  # 欠損が復活する\n",
    "\n"
   ]
  },
  {
   "cell_type": "code",
   "execution_count": 15,
   "id": "50e8ee6e",
   "metadata": {},
   "outputs": [
    {
     "name": "stdout",
     "output_type": "stream",
     "text": [
      "                        Feature_Pair  Draft Rate  Sample Count\n",
      "1     Sprint_40yd & Bench_Press_Reps    0.709677            62\n",
      "0        Sprint_40yd & Vertical_Jump    0.640000           100\n",
      "2           Sprint_40yd & Broad_Jump    0.627451           102\n",
      "3        Sprint_40yd & Agility_3cone    0.625000           120\n",
      "4              Sprint_40yd & Shuttle    0.623932           117\n",
      "14           Agility_3cone & Shuttle    0.600227           883\n",
      "8            Vertical_Jump & Shuttle    0.591682           529\n",
      "7      Vertical_Jump & Agility_3cone    0.591337           531\n",
      "12        Broad_Jump & Agility_3cone    0.590909           550\n",
      "13              Broad_Jump & Shuttle    0.590826           545\n",
      "6         Vertical_Jump & Broad_Jump    0.589147           516\n",
      "11        Bench_Press_Reps & Shuttle    0.578512           363\n",
      "10  Bench_Press_Reps & Agility_3cone    0.575676           370\n",
      "9      Bench_Press_Reps & Broad_Jump    0.557143           280\n",
      "5   Vertical_Jump & Bench_Press_Reps    0.541045           268\n"
     ]
    }
   ],
   "source": [
    "from itertools import combinations\n",
    "import pandas as pd\n",
    "\n",
    "# train.csv を読み込んでいない場合は以下で読み込む\n",
    "# train = pd.read_csv('../data/train.csv')\n",
    "\n",
    "# パフォーマンス系の列\n",
    "performance_cols = [\n",
    "    'Sprint_40yd',\n",
    "    'Vertical_Jump',\n",
    "    'Bench_Press_Reps',\n",
    "    'Broad_Jump',\n",
    "    'Agility_3cone',\n",
    "    'Shuttle'\n",
    "]\n",
    "\n",
    "# 結果格納用リスト\n",
    "results = []\n",
    "\n",
    "# 全ての2列ペアに対して、ANDで欠損している行を抽出して分析\n",
    "for col1, col2 in combinations(performance_cols, 2):\n",
    "    both_missing = train[col1].isna() & train[col2].isna()\n",
    "    count = both_missing.sum()\n",
    "\n",
    "    if count > 0:\n",
    "        draft_rate = train.loc[both_missing, 'Drafted'].mean()  # skipna=True は不要（デフォルト）\n",
    "    else:\n",
    "        draft_rate = None\n",
    "\n",
    "    results.append({\n",
    "        'Feature_Pair': f'{col1} & {col2}',\n",
    "        'Draft Rate': draft_rate,\n",
    "        'Sample Count': count\n",
    "    })\n",
    "\n",
    "# 結果をDataFrame化してソート\n",
    "pair_df = pd.DataFrame(results).sort_values(by='Draft Rate', ascending=False)\n",
    "\n",
    "# 結果を表示\n",
    "print(pair_df)\n"
   ]
  },
  {
   "cell_type": "markdown",
   "id": "ba91e7ff",
   "metadata": {},
   "source": [
    "     Sprint_40yd & Bench_Press_Reps    0.709677            62\n",
    "     はかなり有効そうに感じる"
   ]
  },
  {
   "cell_type": "code",
   "execution_count": 16,
   "id": "00a5df40",
   "metadata": {},
   "outputs": [],
   "source": [
    "# 使わない列の削除\n",
    "train = train.drop(columns=[\"Id\", \"School\"])\n",
    "test = test.drop(columns=[\"Id\",\"School\"])"
   ]
  },
  {
   "cell_type": "markdown",
   "id": "3cb7546e",
   "metadata": {},
   "source": [
    "「Sprint_40yd_and_Bench_missing」は、元の値とは別の情報をもつ新しい視点の特徴量となります。"
   ]
  },
  {
   "cell_type": "code",
   "execution_count": 17,
   "id": "8879f7c0",
   "metadata": {},
   "outputs": [],
   "source": [
    "# 欠損フラグの特徴量を追加\n",
    "train['Sprint_40yd_missing'] = train['Sprint_40yd'].isna().astype(int)\n",
    "test['Sprint_40yd_missing'] = test['Sprint_40yd'].isna().astype(int)\n",
    "\n",
    "train['Sprint_40yd_and_Bench_missing'] = (train['Sprint_40yd'].isna() & train['Bench_Press_Reps'].isna()).astype(int)\n",
    "test['Sprint_40yd_and_Bench_missing'] = (test['Sprint_40yd'].isna() & test['Bench_Press_Reps'].isna()).astype(int)\n"
   ]
  },
  {
   "cell_type": "code",
   "execution_count": 18,
   "id": "032cb58c",
   "metadata": {},
   "outputs": [
    {
     "data": {
      "text/html": [
       "<div>\n",
       "<style scoped>\n",
       "    .dataframe tbody tr th:only-of-type {\n",
       "        vertical-align: middle;\n",
       "    }\n",
       "\n",
       "    .dataframe tbody tr th {\n",
       "        vertical-align: top;\n",
       "    }\n",
       "\n",
       "    .dataframe thead th {\n",
       "        text-align: right;\n",
       "    }\n",
       "</style>\n",
       "<table border=\"1\" class=\"dataframe\">\n",
       "  <thead>\n",
       "    <tr style=\"text-align: right;\">\n",
       "      <th></th>\n",
       "      <th>Sprint_40yd</th>\n",
       "      <th>Bench_Press_Reps</th>\n",
       "      <th>Sprint_40yd_missing</th>\n",
       "      <th>Sprint_40yd_and_Bench_missing</th>\n",
       "    </tr>\n",
       "  </thead>\n",
       "  <tbody>\n",
       "    <tr>\n",
       "      <th>0</th>\n",
       "      <td>5.39</td>\n",
       "      <td>29.0</td>\n",
       "      <td>0</td>\n",
       "      <td>0</td>\n",
       "    </tr>\n",
       "    <tr>\n",
       "      <th>1</th>\n",
       "      <td>4.31</td>\n",
       "      <td>16.0</td>\n",
       "      <td>0</td>\n",
       "      <td>0</td>\n",
       "    </tr>\n",
       "    <tr>\n",
       "      <th>2</th>\n",
       "      <td>4.51</td>\n",
       "      <td>10.0</td>\n",
       "      <td>0</td>\n",
       "      <td>0</td>\n",
       "    </tr>\n",
       "    <tr>\n",
       "      <th>3</th>\n",
       "      <td>5.09</td>\n",
       "      <td>39.0</td>\n",
       "      <td>0</td>\n",
       "      <td>0</td>\n",
       "    </tr>\n",
       "    <tr>\n",
       "      <th>4</th>\n",
       "      <td>4.64</td>\n",
       "      <td>NaN</td>\n",
       "      <td>0</td>\n",
       "      <td>0</td>\n",
       "    </tr>\n",
       "    <tr>\n",
       "      <th>5</th>\n",
       "      <td>4.58</td>\n",
       "      <td>27.0</td>\n",
       "      <td>0</td>\n",
       "      <td>0</td>\n",
       "    </tr>\n",
       "    <tr>\n",
       "      <th>6</th>\n",
       "      <td>4.42</td>\n",
       "      <td>12.0</td>\n",
       "      <td>0</td>\n",
       "      <td>0</td>\n",
       "    </tr>\n",
       "    <tr>\n",
       "      <th>7</th>\n",
       "      <td>4.61</td>\n",
       "      <td>11.0</td>\n",
       "      <td>0</td>\n",
       "      <td>0</td>\n",
       "    </tr>\n",
       "    <tr>\n",
       "      <th>8</th>\n",
       "      <td>5.36</td>\n",
       "      <td>NaN</td>\n",
       "      <td>0</td>\n",
       "      <td>0</td>\n",
       "    </tr>\n",
       "    <tr>\n",
       "      <th>9</th>\n",
       "      <td>5.15</td>\n",
       "      <td>19.0</td>\n",
       "      <td>0</td>\n",
       "      <td>0</td>\n",
       "    </tr>\n",
       "  </tbody>\n",
       "</table>\n",
       "</div>"
      ],
      "text/plain": [
       "   Sprint_40yd  Bench_Press_Reps  Sprint_40yd_missing  \\\n",
       "0         5.39              29.0                    0   \n",
       "1         4.31              16.0                    0   \n",
       "2         4.51              10.0                    0   \n",
       "3         5.09              39.0                    0   \n",
       "4         4.64               NaN                    0   \n",
       "5         4.58              27.0                    0   \n",
       "6         4.42              12.0                    0   \n",
       "7         4.61              11.0                    0   \n",
       "8         5.36               NaN                    0   \n",
       "9         5.15              19.0                    0   \n",
       "\n",
       "   Sprint_40yd_and_Bench_missing  \n",
       "0                              0  \n",
       "1                              0  \n",
       "2                              0  \n",
       "3                              0  \n",
       "4                              0  \n",
       "5                              0  \n",
       "6                              0  \n",
       "7                              0  \n",
       "8                              0  \n",
       "9                              0  "
      ]
     },
     "execution_count": 18,
     "metadata": {},
     "output_type": "execute_result"
    }
   ],
   "source": [
    "train[['Sprint_40yd', 'Bench_Press_Reps', 'Sprint_40yd_missing', 'Sprint_40yd_and_Bench_missing']].head(10)\n"
   ]
  },
  {
   "cell_type": "code",
   "execution_count": 19,
   "id": "e95ca156",
   "metadata": {},
   "outputs": [],
   "source": [
    "# 平均で補完する対象の列\n",
    "cols_to_fill = ['Age', 'Sprint_40yd', 'Vertical_Jump', 'Bench_Press_Reps',\n",
    "                'Broad_Jump', 'Agility_3cone', 'Shuttle']\n",
    "\n",
    "# train の平均で train/test 両方を補完\n",
    "for col in cols_to_fill:\n",
    "    mean_value = train[col].mean()\n",
    "    train[col] = train[col].fillna(mean_value)\n",
    "    test[col] = test[col].fillna(mean_value)"
   ]
  },
  {
   "cell_type": "code",
   "execution_count": 20,
   "id": "d672517d",
   "metadata": {},
   "outputs": [
    {
     "data": {
      "text/plain": [
       "Year                             0\n",
       "Age                              0\n",
       "Height                           0\n",
       "Weight                           0\n",
       "Sprint_40yd                      0\n",
       "Vertical_Jump                    0\n",
       "Bench_Press_Reps                 0\n",
       "Broad_Jump                       0\n",
       "Agility_3cone                    0\n",
       "Shuttle                          0\n",
       "Player_Type                      0\n",
       "Position_Type                    0\n",
       "Position                         0\n",
       "Drafted                          0\n",
       "Sprint_40yd_missing              0\n",
       "Sprint_40yd_and_Bench_missing    0\n",
       "dtype: int64"
      ]
     },
     "execution_count": 20,
     "metadata": {},
     "output_type": "execute_result"
    }
   ],
   "source": [
    "train.isnull().sum()"
   ]
  },
  {
   "cell_type": "code",
   "execution_count": 21,
   "id": "d3cdd4bf",
   "metadata": {},
   "outputs": [
    {
     "data": {
      "text/html": [
       "<div>\n",
       "<style scoped>\n",
       "    .dataframe tbody tr th:only-of-type {\n",
       "        vertical-align: middle;\n",
       "    }\n",
       "\n",
       "    .dataframe tbody tr th {\n",
       "        vertical-align: top;\n",
       "    }\n",
       "\n",
       "    .dataframe thead th {\n",
       "        text-align: right;\n",
       "    }\n",
       "</style>\n",
       "<table border=\"1\" class=\"dataframe\">\n",
       "  <thead>\n",
       "    <tr style=\"text-align: right;\">\n",
       "      <th></th>\n",
       "      <th>Year</th>\n",
       "      <th>Age</th>\n",
       "      <th>Height</th>\n",
       "      <th>Weight</th>\n",
       "      <th>Sprint_40yd</th>\n",
       "      <th>Vertical_Jump</th>\n",
       "      <th>Bench_Press_Reps</th>\n",
       "      <th>Broad_Jump</th>\n",
       "      <th>Agility_3cone</th>\n",
       "      <th>Shuttle</th>\n",
       "      <th>Player_Type</th>\n",
       "      <th>Position_Type</th>\n",
       "      <th>Position</th>\n",
       "      <th>Drafted</th>\n",
       "      <th>Sprint_40yd_missing</th>\n",
       "      <th>Sprint_40yd_and_Bench_missing</th>\n",
       "    </tr>\n",
       "  </thead>\n",
       "  <tbody>\n",
       "    <tr>\n",
       "      <th>0</th>\n",
       "      <td>2011</td>\n",
       "      <td>21.0</td>\n",
       "      <td>1.9050</td>\n",
       "      <td>140.160042</td>\n",
       "      <td>5.39</td>\n",
       "      <td>59.69</td>\n",
       "      <td>29.000000</td>\n",
       "      <td>251.46</td>\n",
       "      <td>7.910000</td>\n",
       "      <td>4.940000</td>\n",
       "      <td>offense</td>\n",
       "      <td>offensive_lineman</td>\n",
       "      <td>OG</td>\n",
       "      <td>1.0</td>\n",
       "      <td>0</td>\n",
       "      <td>0</td>\n",
       "    </tr>\n",
       "    <tr>\n",
       "      <th>1</th>\n",
       "      <td>2011</td>\n",
       "      <td>24.0</td>\n",
       "      <td>1.8288</td>\n",
       "      <td>87.089735</td>\n",
       "      <td>4.31</td>\n",
       "      <td>101.60</td>\n",
       "      <td>16.000000</td>\n",
       "      <td>332.74</td>\n",
       "      <td>7.230447</td>\n",
       "      <td>4.399422</td>\n",
       "      <td>offense</td>\n",
       "      <td>backs_receivers</td>\n",
       "      <td>WR</td>\n",
       "      <td>1.0</td>\n",
       "      <td>0</td>\n",
       "      <td>0</td>\n",
       "    </tr>\n",
       "    <tr>\n",
       "      <th>2</th>\n",
       "      <td>2018</td>\n",
       "      <td>21.0</td>\n",
       "      <td>1.8542</td>\n",
       "      <td>92.986436</td>\n",
       "      <td>4.51</td>\n",
       "      <td>91.44</td>\n",
       "      <td>10.000000</td>\n",
       "      <td>309.88</td>\n",
       "      <td>6.950000</td>\n",
       "      <td>4.370000</td>\n",
       "      <td>offense</td>\n",
       "      <td>backs_receivers</td>\n",
       "      <td>WR</td>\n",
       "      <td>1.0</td>\n",
       "      <td>0</td>\n",
       "      <td>0</td>\n",
       "    </tr>\n",
       "    <tr>\n",
       "      <th>3</th>\n",
       "      <td>2010</td>\n",
       "      <td>21.0</td>\n",
       "      <td>1.9304</td>\n",
       "      <td>148.778297</td>\n",
       "      <td>5.09</td>\n",
       "      <td>76.20</td>\n",
       "      <td>39.000000</td>\n",
       "      <td>254.00</td>\n",
       "      <td>8.120000</td>\n",
       "      <td>4.710000</td>\n",
       "      <td>defense</td>\n",
       "      <td>defensive_lineman</td>\n",
       "      <td>DT</td>\n",
       "      <td>1.0</td>\n",
       "      <td>0</td>\n",
       "      <td>0</td>\n",
       "    </tr>\n",
       "    <tr>\n",
       "      <th>4</th>\n",
       "      <td>2016</td>\n",
       "      <td>21.0</td>\n",
       "      <td>1.8796</td>\n",
       "      <td>92.079251</td>\n",
       "      <td>4.64</td>\n",
       "      <td>78.74</td>\n",
       "      <td>20.236408</td>\n",
       "      <td>281.94</td>\n",
       "      <td>7.130000</td>\n",
       "      <td>4.200000</td>\n",
       "      <td>offense</td>\n",
       "      <td>backs_receivers</td>\n",
       "      <td>WR</td>\n",
       "      <td>1.0</td>\n",
       "      <td>0</td>\n",
       "      <td>0</td>\n",
       "    </tr>\n",
       "  </tbody>\n",
       "</table>\n",
       "</div>"
      ],
      "text/plain": [
       "   Year   Age  Height      Weight  Sprint_40yd  Vertical_Jump  \\\n",
       "0  2011  21.0  1.9050  140.160042         5.39          59.69   \n",
       "1  2011  24.0  1.8288   87.089735         4.31         101.60   \n",
       "2  2018  21.0  1.8542   92.986436         4.51          91.44   \n",
       "3  2010  21.0  1.9304  148.778297         5.09          76.20   \n",
       "4  2016  21.0  1.8796   92.079251         4.64          78.74   \n",
       "\n",
       "   Bench_Press_Reps  Broad_Jump  Agility_3cone   Shuttle Player_Type  \\\n",
       "0         29.000000      251.46       7.910000  4.940000     offense   \n",
       "1         16.000000      332.74       7.230447  4.399422     offense   \n",
       "2         10.000000      309.88       6.950000  4.370000     offense   \n",
       "3         39.000000      254.00       8.120000  4.710000     defense   \n",
       "4         20.236408      281.94       7.130000  4.200000     offense   \n",
       "\n",
       "       Position_Type Position  Drafted  Sprint_40yd_missing  \\\n",
       "0  offensive_lineman       OG      1.0                    0   \n",
       "1    backs_receivers       WR      1.0                    0   \n",
       "2    backs_receivers       WR      1.0                    0   \n",
       "3  defensive_lineman       DT      1.0                    0   \n",
       "4    backs_receivers       WR      1.0                    0   \n",
       "\n",
       "   Sprint_40yd_and_Bench_missing  \n",
       "0                              0  \n",
       "1                              0  \n",
       "2                              0  \n",
       "3                              0  \n",
       "4                              0  "
      ]
     },
     "execution_count": 21,
     "metadata": {},
     "output_type": "execute_result"
    }
   ],
   "source": [
    "train.head()\n"
   ]
  },
  {
   "cell_type": "code",
   "execution_count": 22,
   "id": "a7510d64",
   "metadata": {},
   "outputs": [
    {
     "data": {
      "text/plain": [
       "Year                             0\n",
       "Age                              0\n",
       "Height                           0\n",
       "Weight                           0\n",
       "Sprint_40yd                      0\n",
       "Vertical_Jump                    0\n",
       "Bench_Press_Reps                 0\n",
       "Broad_Jump                       0\n",
       "Agility_3cone                    0\n",
       "Shuttle                          0\n",
       "Player_Type                      0\n",
       "Position_Type                    0\n",
       "Position                         0\n",
       "Sprint_40yd_missing              0\n",
       "Sprint_40yd_and_Bench_missing    0\n",
       "dtype: int64"
      ]
     },
     "execution_count": 22,
     "metadata": {},
     "output_type": "execute_result"
    }
   ],
   "source": [
    "test.isnull().sum()"
   ]
  },
  {
   "cell_type": "code",
   "execution_count": 23,
   "id": "56a64778",
   "metadata": {},
   "outputs": [],
   "source": [
    "for df in [train, test]:\n",
    "    df['BMI'] = df['Weight'] / (df['Height'] ** 2)"
   ]
  },
  {
   "cell_type": "code",
   "execution_count": 24,
   "id": "151ecd95",
   "metadata": {},
   "outputs": [],
   "source": [
    "# カテゴリデータをラベルエンコーディング\n",
    "label_encoders = {}\n",
    "for c in [\"Player_Type\", \"Position_Type\", \"Position\"]:\n",
    "    label_encoders[c] = LabelEncoder()\n",
    "    train[c] = label_encoders[c].fit_transform(train[c].astype(str))\n",
    "    test[c] = label_encoders[c].transform(test[c].astype(str))"
   ]
  },
  {
   "cell_type": "code",
   "execution_count": 25,
   "id": "d1d70028",
   "metadata": {},
   "outputs": [
    {
     "name": "stdout",
     "output_type": "stream",
     "text": [
      "Fold 1\n",
      "  Train AUC: 0.8846\n",
      "  Valid AUC: 0.7912\n",
      "Fold 2\n",
      "  Train AUC: 0.8819\n",
      "  Valid AUC: 0.8373\n",
      "Fold 3\n",
      "  Train AUC: 0.8828\n",
      "  Valid AUC: 0.8397\n",
      "Fold 4\n",
      "  Train AUC: 0.8875\n",
      "  Valid AUC: 0.7843\n",
      "Fold 5\n",
      "  Train AUC: 0.8829\n",
      "  Valid AUC: 0.8306\n",
      "\n",
      "Average Train AUC: 0.8839\n",
      "Average Validation AUC: 0.8166\n"
     ]
    }
   ],
   "source": [
    "# 特徴量と目的変数に分ける\n",
    "X = train.drop(columns=[\"Drafted\"])\n",
    "y = train[\"Drafted\"]\n",
    "\n",
    "# モデルとCVの設定\n",
    "model = RandomForestClassifier(\n",
    "    n_estimators=100,\n",
    "    max_depth=5,\n",
    "    random_state=2025\n",
    ")\n",
    "skf = StratifiedKFold(n_splits=5, shuffle=True, random_state=42)\n",
    "\n",
    "# スコア格納用\n",
    "train_auc_scores = []\n",
    "valid_auc_scores = []\n",
    "\n",
    "# Stratified K-Fold による学習と評価\n",
    "for fold, (train_idx, valid_idx) in enumerate(skf.split(X, y)):\n",
    "    print(f\"Fold {fold + 1}\")\n",
    "\n",
    "    X_train, X_valid = X.iloc[train_idx], X.iloc[valid_idx]\n",
    "    y_train, y_valid = y.iloc[train_idx], y.iloc[valid_idx]\n",
    "\n",
    "    # モデル学習\n",
    "    model.fit(X_train, y_train)\n",
    "\n",
    "    # Train AUC\n",
    "    y_train_pred_proba = model.predict_proba(X_train)[:, 1]\n",
    "    train_auc = roc_auc_score(y_train, y_train_pred_proba)\n",
    "    train_auc_scores.append(train_auc)\n",
    "\n",
    "    # Valid AUC\n",
    "    y_valid_pred_proba = model.predict_proba(X_valid)[:, 1]\n",
    "    valid_auc = roc_auc_score(y_valid, y_valid_pred_proba)\n",
    "    valid_auc_scores.append(valid_auc)\n",
    "\n",
    "    print(f\"  Train AUC: {round(train_auc, 4)}\")\n",
    "    print(f\"  Valid AUC: {round(valid_auc, 4)}\")\n",
    "\n",
    "# 平均AUCを表示\n",
    "print(\"\\nAverage Train AUC:\", round(np.mean(train_auc_scores), 4))\n",
    "print(\"Average Validation AUC:\", round(np.mean(valid_auc_scores), 4))\n"
   ]
  },
  {
   "cell_type": "code",
   "execution_count": 90,
   "id": "c92ce2f4",
   "metadata": {},
   "outputs": [
    {
     "data": {
      "image/png": "[encoded data removed]",
      "text/plain": [
       "<Figure size 1000x600 with 1 Axes>"
      ]
     },
     "metadata": {},
     "output_type": "display_data"
    }
   ],
   "source": [
    "# 特徴量とその重要度をDataFrameにまとめる\n",
    "feature_importances = pd.DataFrame({\n",
    "    'Feature': X.columns,\n",
    "    'Importance': model.feature_importances_\n",
    "}).sort_values(by='Importance', ascending=False)\n",
    "\n",
    "# 可視化\n",
    "plt.figure(figsize=(10, 6))\n",
    "sns.barplot(data=feature_importances, x='Importance', y='Feature')\n",
    "plt.title('Feature Importances from Random Forest', fontsize=16)\n",
    "plt.xlabel('Importance')\n",
    "plt.ylabel('Feature')\n",
    "plt.tight_layout()\n",
    "plt.show()"
   ]
  },
  {
   "cell_type": "code",
   "execution_count": 93,
   "id": "543c76e1",
   "metadata": {},
   "outputs": [
    {
     "name": "stdout",
     "output_type": "stream",
     "text": [
      "✅ 保存完了: c:\\Users\\81807\\Desktop\\Kaggle\\GCI②(NFL Draft Prediction)\\submissions\\submission_20250623_0201.csv\n"
     ]
    }
   ],
   "source": [
    "import pandas as pd\n",
    "import os\n",
    "import datetime\n",
    "\n",
    "# Idの復元用に改めて test.csv を読み込む（こちらは未加工）\n",
    "original_test = pd.read_csv(\"../data/test.csv\")  # ← ここを修正！\n",
    "\n",
    "# 予測確率（Drafted=1 の確率）\n",
    "y_pred = model.predict_proba(test[feature_cols])[:, 1]\n",
    "\n",
    "\n",
    "# 提出用 DataFrame（上で定義した y_pred 使用）\n",
    "submission = pd.DataFrame({\n",
    "    \"Id\": original_test[\"Id\"],\n",
    "    \"Drafted\": y_pred\n",
    "})\n",
    "\n",
    "# 📁 正しい保存先（プロジェクトルート直下の submissions フォルダ）\n",
    "root_dir = os.path.abspath(os.path.join(os.getcwd(), \"..\"))  # ← notebooks/ の1つ上へ\n",
    "save_dir = os.path.join(root_dir, \"submissions\")\n",
    "os.makedirs(save_dir, exist_ok=True)\n",
    "\n",
    "# ファイル名：日時付き\n",
    "timestamp = datetime.datetime.now().strftime(\"%Y%m%d_%H%M\")\n",
    "save_path = os.path.join(save_dir, f\"submission_{timestamp}.csv\")\n",
    "\n",
    "# 保存\n",
    "submission.to_csv(save_path, index=False)\n",
    "print(f\"✅ 保存完了: {save_path}\")\n"
   ]
  }
 ],
 "metadata": {
  "kernelspec": {
   "display_name": "Python 3",
   "language": "python",
   "name": "python3"
  },
  "language_info": {
   "codemirror_mode": {
    "name": "ipython",
    "version": 3
   },
   "file_extension": ".py",
   "mimetype": "text/x-python",
   "name": "python",
   "nbconvert_exporter": "python",
   "pygments_lexer": "ipython3",
   "version": "3.13.3"
  }
 },
 "nbformat": 4,
 "nbformat_minor": 5
}
